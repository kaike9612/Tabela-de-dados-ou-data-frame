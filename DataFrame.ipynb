{
  "cells": [
    {
      "cell_type": "markdown",
      "metadata": {
        "id": "6jjo8yNT19FI"
      },
      "source": [
        "# 0. Tipo tabela de dados ou **data frame**\n",
        "\n",
        "Um tipo muito útil que está disponível na biblioteca **pandas** é o tipo tabela de dados ou **data frame**. Com ele é possível manipular dados em formato de tabela e utilizar funções estatísticas variadas. É um tipo de dados mutável, com ordenação e indexação.\n",
        "\n",
        "Além disso, a biblioteca **pandas** fornece uma série de funções que facilitam a leitura de dados de arquivos e páginas da internet o que permite a criação de uma série de aplicações importantes como será visto mais para frente.\n",
        "\n",
        "Se você consegue entender o funcionamentos dos comandos que estão na próxima células, então, não é necessário prosseguir nesta seção.\n",
        "\n"
      ]
    },
    {
      "cell_type": "code",
      "execution_count": null,
      "metadata": {
        "colab": {
          "base_uri": "https://localhost:8080/",
          "height": 535
        },
        "id": "AMd6-vgXGSSw",
        "outputId": "c4592ecf-6bd0-4fb6-f7b6-c5be0732f1ab",
        "vscode": {
          "languageId": "python"
        }
      },
      "outputs": [
        {
          "name": "stdout",
          "output_type": "stream",
          "text": [
            "   F   C\n",
            "0  7  20\n",
            "1  4   9\n",
            "20\n",
            "    F   C\n",
            "2  15  45\n",
            "3   4  36\n",
            "15\n"
          ]
        },
        {
          "data": {
            "text/html": [
              "<table border=\"1\" class=\"dataframe\">\n",
              "  <thead>\n",
              "    <tr style=\"text-align: right;\">\n",
              "      <th></th>\n",
              "      <th>F</th>\n",
              "      <th>C</th>\n",
              "    </tr>\n",
              "  </thead>\n",
              "  <tbody>\n",
              "    <tr>\n",
              "      <th>0</th>\n",
              "      <td>7</td>\n",
              "      <td>20</td>\n",
              "    </tr>\n",
              "    <tr>\n",
              "      <th>1</th>\n",
              "      <td>4</td>\n",
              "      <td>9</td>\n",
              "    </tr>\n",
              "    <tr>\n",
              "      <th>2</th>\n",
              "      <td>15</td>\n",
              "      <td>45</td>\n",
              "    </tr>\n",
              "    <tr>\n",
              "      <th>3</th>\n",
              "      <td>4</td>\n",
              "      <td>36</td>\n",
              "    </tr>\n",
              "  </tbody>\n",
              "</table>"
            ],
            "text/plain": [
              "<IPython.core.display.HTML object>"
            ]
          },
          "metadata": {
            "tags": []
          },
          "output_type": "display_data"
        },
        {
          "name": "stdout",
          "output_type": "stream",
          "text": [
            "      F   C\n",
            "0   7.0  20\n",
            "1   NaN   9\n",
            "2  15.0  45\n",
            "3   NaN  36\n",
            "7.5\n",
            "194.25\n"
          ]
        },
        {
          "data": {
            "text/html": [
              "<style  type=\"text/css\" >\n",
              "    #T_609580d6_9eb9_11ea_a9b2_0242ac1c0002row0_col0 {\n",
              "            background-color:  #38588c;\n",
              "            color:  #f1f1f1;\n",
              "        }    #T_609580d6_9eb9_11ea_a9b2_0242ac1c0002row0_col1 {\n",
              "            background-color:  #34618d;\n",
              "            color:  #f1f1f1;\n",
              "        }    #T_609580d6_9eb9_11ea_a9b2_0242ac1c0002row1_col0 {\n",
              "            background-color:  #440154;\n",
              "            color:  #f1f1f1;\n",
              "        }    #T_609580d6_9eb9_11ea_a9b2_0242ac1c0002row1_col1 {\n",
              "            background-color:  #440154;\n",
              "            color:  #f1f1f1;\n",
              "        }    #T_609580d6_9eb9_11ea_a9b2_0242ac1c0002row2_col0 {\n",
              "            background-color:  #fde725;\n",
              "            color:  #000000;\n",
              "        }    #T_609580d6_9eb9_11ea_a9b2_0242ac1c0002row2_col1 {\n",
              "            background-color:  #fde725;\n",
              "            color:  #000000;\n",
              "        }    #T_609580d6_9eb9_11ea_a9b2_0242ac1c0002row3_col0 {\n",
              "            background-color:  #440154;\n",
              "            color:  #f1f1f1;\n",
              "        }    #T_609580d6_9eb9_11ea_a9b2_0242ac1c0002row3_col1 {\n",
              "            background-color:  #5ec962;\n",
              "            color:  #000000;\n",
              "        }</style><table id=\"T_609580d6_9eb9_11ea_a9b2_0242ac1c0002\" ><thead>    <tr>        <th class=\"blank level0\" ></th>        <th class=\"col_heading level0 col0\" >F</th>        <th class=\"col_heading level0 col1\" >C</th>    </tr></thead><tbody>\n",
              "                <tr>\n",
              "                        <th id=\"T_609580d6_9eb9_11ea_a9b2_0242ac1c0002level0_row0\" class=\"row_heading level0 row0\" >0</th>\n",
              "                        <td id=\"T_609580d6_9eb9_11ea_a9b2_0242ac1c0002row0_col0\" class=\"data row0 col0\" >7</td>\n",
              "                        <td id=\"T_609580d6_9eb9_11ea_a9b2_0242ac1c0002row0_col1\" class=\"data row0 col1\" >20</td>\n",
              "            </tr>\n",
              "            <tr>\n",
              "                        <th id=\"T_609580d6_9eb9_11ea_a9b2_0242ac1c0002level0_row1\" class=\"row_heading level0 row1\" >1</th>\n",
              "                        <td id=\"T_609580d6_9eb9_11ea_a9b2_0242ac1c0002row1_col0\" class=\"data row1 col0\" >4</td>\n",
              "                        <td id=\"T_609580d6_9eb9_11ea_a9b2_0242ac1c0002row1_col1\" class=\"data row1 col1\" >9</td>\n",
              "            </tr>\n",
              "            <tr>\n",
              "                        <th id=\"T_609580d6_9eb9_11ea_a9b2_0242ac1c0002level0_row2\" class=\"row_heading level0 row2\" >2</th>\n",
              "                        <td id=\"T_609580d6_9eb9_11ea_a9b2_0242ac1c0002row2_col0\" class=\"data row2 col0\" >15</td>\n",
              "                        <td id=\"T_609580d6_9eb9_11ea_a9b2_0242ac1c0002row2_col1\" class=\"data row2 col1\" >45</td>\n",
              "            </tr>\n",
              "            <tr>\n",
              "                        <th id=\"T_609580d6_9eb9_11ea_a9b2_0242ac1c0002level0_row3\" class=\"row_heading level0 row3\" >3</th>\n",
              "                        <td id=\"T_609580d6_9eb9_11ea_a9b2_0242ac1c0002row3_col0\" class=\"data row3 col0\" >4</td>\n",
              "                        <td id=\"T_609580d6_9eb9_11ea_a9b2_0242ac1c0002row3_col1\" class=\"data row3 col1\" >36</td>\n",
              "            </tr>\n",
              "    </tbody></table>"
            ],
            "text/plain": [
              "<pandas.io.formats.style.Styler at 0x7f36f6e2cf28>"
            ]
          },
          "execution_count": 48,
          "metadata": {
            "tags": []
          },
          "output_type": "execute_result"
        }
      ],
      "source": [
        "import pandas as pd\n",
        "from IPython.display import display, HTML\n",
        "import seaborn as sns\n",
        "\n",
        "df  = pd.DataFrame(data=[[7,20],[4,9]], index=[0,1], columns=['F','C'])\n",
        "df2 = pd.DataFrame({'Favor': [15, 4], 'Contra': [45, 36]})\n",
        "df2 = df2.rename(index={0: 2, 1: 3},columns={'Favor':'F','Contra':'C'})\n",
        "print(df)\n",
        "print(df.loc[0,'C'])\n",
        "print(df2)\n",
        "print(df2.iloc[0,0])\n",
        "df = pd.concat([df, df2])\n",
        "display(HTML(df.to_html()))\n",
        "print(df[df > 4])\n",
        "\n",
        "media     = df.loc[:,'F'].mean()\n",
        "variancia = df.loc[:,'C'].var(ddof=0)\n",
        "print(media)\n",
        "print(variancia)\n",
        "\n",
        "# Teste um dos comandos de cada vez:\n",
        "df.loc[:4].style.background_gradient(cmap='viridis')\n",
        "# df.style.bar(subset=['F'], align='mid', color=['#d65f5f', '#5fba7d'])\n",
        "# boxplot = df.boxplot()"
      ]
    },
    {
      "cell_type": "markdown",
      "metadata": {
        "id": "Irx019xq67SK"
      },
      "source": [
        "# 1. Criando uma tabela de dados com listas\n",
        "\n",
        "Um tipo **data frame** possui 3 elementos principais, que são inerentes a uma tabela, **índices das linhas** (**index**), **índices das colunas** (**columns**), e os **dados** (**data**). Cabe destacar que a atribuição inicias dos índices de linhas e colunas são listas de um tipo básico **int** ou **str**. Já para os dados é necessário criar uma lista de listas do tipo básico **int** ou **float** tal que **data = [lista1, lista2, ..., listan]**. A lista i de **data** corresponde aos dados da **i-ésima linha** da tabela de dados. Os dados deverão ter a seguinte organização geral:\n",
        "\n",
        "* **index = lista_nomes_linhas**\n",
        "* **columns = lista_nomes_colunas**\n",
        "* **data = [lista1, lista2, ..., listan]**"
      ]
    },
    {
      "cell_type": "code",
      "execution_count": null,
      "metadata": {
        "colab": {
          "base_uri": "https://localhost:8080/",
          "height": 111
        },
        "id": "ZknbTbqW25R-",
        "outputId": "ed32f797-c5d2-4419-84cf-628ea82419fb",
        "vscode": {
          "languageId": "python"
        }
      },
      "outputs": [
        {
          "data": {
            "text/html": [
              "<div>\n",
              "<style scoped>\n",
              "    .dataframe tbody tr th:only-of-type {\n",
              "        vertical-align: middle;\n",
              "    }\n",
              "\n",
              "    .dataframe tbody tr th {\n",
              "        vertical-align: top;\n",
              "    }\n",
              "\n",
              "    .dataframe thead th {\n",
              "        text-align: right;\n",
              "    }\n",
              "</style>\n",
              "<table border=\"1\" class=\"dataframe\">\n",
              "  <thead>\n",
              "    <tr style=\"text-align: right;\">\n",
              "      <th></th>\n",
              "      <th>F</th>\n",
              "      <th>C</th>\n",
              "    </tr>\n",
              "  </thead>\n",
              "  <tbody>\n",
              "    <tr>\n",
              "      <th>H</th>\n",
              "      <td>7</td>\n",
              "      <td>20</td>\n",
              "    </tr>\n",
              "    <tr>\n",
              "      <th>M</th>\n",
              "      <td>4</td>\n",
              "      <td>9</td>\n",
              "    </tr>\n",
              "  </tbody>\n",
              "</table>\n",
              "</div>"
            ],
            "text/plain": [
              "   F   C\n",
              "H  7  20\n",
              "M  4   9"
            ]
          },
          "execution_count": 3,
          "metadata": {
            "tags": []
          },
          "output_type": "execute_result"
        }
      ],
      "source": [
        "import pandas as pd\n",
        "\n",
        "# Preenchendo os dados da tabela por linha.\n",
        "# Index fornece a denominação por linha e columns a denominação por coluna.\n",
        "ind=['H','M']\n",
        "col=['F','C']\n",
        "dat=[[7,20],[4,9]]\n",
        "df = pd.DataFrame(data=dat, index=ind, columns=col)\n",
        "df"
      ]
    },
    {
      "cell_type": "markdown",
      "metadata": {
        "id": "p2kmXKRY7G0I"
      },
      "source": [
        "# 2. Criando uma tabela de dados com dicionários\n",
        "\n",
        "o tipo **dataframe** pode ser criado também a partir dos valores contidos em uma coleção do tipo **dicionário**. Nesse caso, não se especifica os valores de **index**, **columns**, e **data**, pois as **chaves**  (**keys**) do dicionário irão fornecer as informações de **index** e os valores (**values**) do dicionário irão fornecer as informações de **data**. Observar que cada value será uma lista relacionada com os dados de cada linha da tabela. O dicionário deverá ter a seguinte forma geral:\n",
        "\n",
        "**dicionario = {'L1': lista1, 'L2': lista2, ..., 'Ln': listan}**"
      ]
    },
    {
      "cell_type": "code",
      "execution_count": null,
      "metadata": {
        "colab": {
          "base_uri": "https://localhost:8080/",
          "height": 111
        },
        "id": "7Vw3zE7w8FiS",
        "outputId": "86f7eae2-8cb4-48bb-b75b-5c40f054a329",
        "vscode": {
          "languageId": "python"
        }
      },
      "outputs": [
        {
          "data": {
            "text/html": [
              "<div>\n",
              "<style scoped>\n",
              "    .dataframe tbody tr th:only-of-type {\n",
              "        vertical-align: middle;\n",
              "    }\n",
              "\n",
              "    .dataframe tbody tr th {\n",
              "        vertical-align: top;\n",
              "    }\n",
              "\n",
              "    .dataframe thead th {\n",
              "        text-align: right;\n",
              "    }\n",
              "</style>\n",
              "<table border=\"1\" class=\"dataframe\">\n",
              "  <thead>\n",
              "    <tr style=\"text-align: right;\">\n",
              "      <th></th>\n",
              "      <th>Favor</th>\n",
              "      <th>Contra</th>\n",
              "    </tr>\n",
              "  </thead>\n",
              "  <tbody>\n",
              "    <tr>\n",
              "      <th>0</th>\n",
              "      <td>15</td>\n",
              "      <td>45</td>\n",
              "    </tr>\n",
              "    <tr>\n",
              "      <th>1</th>\n",
              "      <td>4</td>\n",
              "      <td>36</td>\n",
              "    </tr>\n",
              "  </tbody>\n",
              "</table>\n",
              "</div>"
            ],
            "text/plain": [
              "   Favor  Contra\n",
              "0     15      45\n",
              "1      4      36"
            ]
          },
          "execution_count": 52,
          "metadata": {
            "tags": []
          },
          "output_type": "execute_result"
        }
      ],
      "source": [
        "import pandas as pd\n",
        "dic = {'Favor': [15, 4], 'Contra': [45, 36]}\n",
        "df = pd.DataFrame(dic)\n",
        "df"
      ]
    },
    {
      "cell_type": "markdown",
      "metadata": {
        "id": "sGW4n2lr8xKJ"
      },
      "source": [
        "# 3. Modificando a indexação de linhas e colunas\n",
        "\n",
        "Caso seja necessário modificar a indexação de uma tabela de dados, basta empregar o comando **rename**. Neste caso, será necessário especificar se deseja-se modificar a indexação das linhas (**index**) ou colunas (**columns**). Independentemente da indexação será necessário empregar um dicionário cujas chaves indicam qual o índice atual e o valor associado indica para qual índice deseja-se trocar. De forma geral os novos índices serão fornecidos por dicionários com a seguinte formatação:\n",
        "\n",
        "* **dic_linhas  = {'L1': 'NovaL1', 'L2': 'NovaL2', ..., 'LN' : 'NovaLN'}**\n",
        "* **dic_colunas = {'C1': 'NovaC1', 'C2': 'NovaC2', ..., 'CN' : 'NovaCN'}**\n"
      ]
    },
    {
      "cell_type": "code",
      "execution_count": null,
      "metadata": {
        "colab": {
          "base_uri": "https://localhost:8080/",
          "height": 111
        },
        "id": "LajE-r7_9AFo",
        "outputId": "20c6a773-fe84-4226-fca1-0dc5b4eeac71",
        "vscode": {
          "languageId": "python"
        }
      },
      "outputs": [
        {
          "data": {
            "text/html": [
              "<div>\n",
              "<style scoped>\n",
              "    .dataframe tbody tr th:only-of-type {\n",
              "        vertical-align: middle;\n",
              "    }\n",
              "\n",
              "    .dataframe tbody tr th {\n",
              "        vertical-align: top;\n",
              "    }\n",
              "\n",
              "    .dataframe thead th {\n",
              "        text-align: right;\n",
              "    }\n",
              "</style>\n",
              "<table border=\"1\" class=\"dataframe\">\n",
              "  <thead>\n",
              "    <tr style=\"text-align: right;\">\n",
              "      <th></th>\n",
              "      <th>F</th>\n",
              "      <th>C</th>\n",
              "    </tr>\n",
              "  </thead>\n",
              "  <tbody>\n",
              "    <tr>\n",
              "      <th>H</th>\n",
              "      <td>15</td>\n",
              "      <td>45</td>\n",
              "    </tr>\n",
              "    <tr>\n",
              "      <th>M</th>\n",
              "      <td>4</td>\n",
              "      <td>36</td>\n",
              "    </tr>\n",
              "  </tbody>\n",
              "</table>\n",
              "</div>"
            ],
            "text/plain": [
              "    F   C\n",
              "H  15  45\n",
              "M   4  36"
            ]
          },
          "execution_count": 53,
          "metadata": {
            "tags": []
          },
          "output_type": "execute_result"
        }
      ],
      "source": [
        "linhas  = {0: \"H\", 1: \"M\"}\n",
        "colunas = {'Favor':'F','Contra':'C'}\n",
        "df = df.rename(index=linhas,columns=colunas)\n",
        "df"
      ]
    },
    {
      "cell_type": "markdown",
      "metadata": {
        "id": "LTKX2Fmz4gc7"
      },
      "source": [
        "# 4. Fazendo referência a um valor do tipo tabela de dados\n",
        "\n",
        "São duas as formas para referenciar um valor contido na tabela:\n",
        "\n",
        "1. **Por indexação**: Com o comando **loc** é necessário especificar a indexação do nome da linha e da coluna associadas ao elemento de interesse. Por exemplo: **df.loc['M','C']**\n",
        "2. **Por ordenação**: Com o comando **iloc** é necessário especificar a ordem numérica das linhas e colunas. É útil saber que a indexação inicial de linhas e colunas começa no valor 0. Por exemplo: **df.iloc[0,0]**\n",
        "\n"
      ]
    },
    {
      "cell_type": "code",
      "execution_count": null,
      "metadata": {
        "colab": {
          "base_uri": "https://localhost:8080/",
          "height": 51
        },
        "id": "oO6MAN9N17ed",
        "outputId": "6bee3c47-2c48-4af6-f873-9e18fec0af5b",
        "vscode": {
          "languageId": "python"
        }
      },
      "outputs": [
        {
          "name": "stdout",
          "output_type": "stream",
          "text": [
            "Obtendo elemento por indexação: 36\n",
            "Obtendo elemento por ordenação: 15\n"
          ]
        }
      ],
      "source": [
        "print(\"Obtendo elemento por indexação: \" + str(df.loc['M','C']))\n",
        "print(\"Obtendo elemento por ordenação: \" + str(df.iloc[0,0]))\n"
      ]
    },
    {
      "cell_type": "markdown",
      "metadata": {
        "id": "Dzl5ct4LC_SC"
      },
      "source": [
        "# 5. Fazendo referência a múltiplos elementos\n",
        "\n",
        "É possível fazer referência a todos os elementos de uma linha ou coluna tanto usando o comando **loc** ou **iloc** em conjunto com o operador **':'** para indicar todos os elementos da linha ou da coluna. A sintaxe geral é dada por:\n",
        "\n",
        "* Usando **loc**: **df.loc[:,'C']** - obtém todos os elementos da **coluna com índice 'C'**;\n",
        "* Usando **iloc**: **df.iloc[1,:]** - obtém todos os elementos da **linha com índice de ordem 1 (segunda linha)**;\n",
        "* Usando **loc**: **df.loc[:,['F','C']]** - obtém todos os elementos das **colunas com índice 'F' e 'C'**;\n",
        "* Usando **loc**: **df.loc['H':'M','F':'C']** - obtém todos os elementos das **linhas com índice 'H' e 'M' e colunas com índice 'F' e 'C'**;\n",
        "* Usando **iloc**: **df.iloc[0:1,[0, 1]]** - obtém todos os elementos da **linha com índice de ordem 0 (primeira linha) e colunas com índice de ordem 0 e 1**."
      ]
    },
    {
      "cell_type": "code",
      "execution_count": null,
      "metadata": {
        "colab": {
          "base_uri": "https://localhost:8080/",
          "height": 289
        },
        "id": "wHz9JYyeEKF7",
        "outputId": "efb92922-d761-4e61-da56-5c5ff8e6242c",
        "vscode": {
          "languageId": "python"
        }
      },
      "outputs": [
        {
          "name": "stdout",
          "output_type": "stream",
          "text": [
            "Dados da coluna C\n",
            "H    45\n",
            "M    36\n",
            "Name: C, dtype: int64\n",
            "Dados linha de índice 1\n",
            "F     4\n",
            "C    36\n",
            "Name: M, dtype: int64\n",
            "    F   C\n",
            "H  15  45\n",
            "M   4  36\n",
            "    F   C\n",
            "H  15  45\n",
            "M   4  36\n",
            "    F   C\n",
            "H  15  45\n"
          ]
        }
      ],
      "source": [
        "print(\"Dados da coluna C\")\n",
        "print(df.loc[:,'C'])\n",
        "print(\"Dados linha de índice 1\")\n",
        "print(df.iloc[1,:])\n",
        "print(df.loc[:,['F','C']])\n",
        "print(df.loc['H':'M','F':'C'])\n",
        "print(df.iloc[0:1,[0, 1]])"
      ]
    },
    {
      "cell_type": "markdown",
      "metadata": {
        "id": "ErBxg1o9BGxL"
      },
      "source": [
        "# 6. Soma dos elementos por linha ou por coluna\n",
        "\n",
        "É possível realizar a soma dos elementos por linha ou por coluna de uma tabela de dados. Para tanto, usa-se o comando **sum** e o parâmetro **axis** pode receber valor **1** para a **soma** de valores por **linha**, ou valor **2** para a **soma** de valores por **coluna**."
      ]
    },
    {
      "cell_type": "code",
      "execution_count": null,
      "metadata": {
        "colab": {
          "base_uri": "https://localhost:8080/",
          "height": 153
        },
        "id": "atwbMyjWBGhp",
        "outputId": "bbf07b90-217b-4e56-e63e-e1d1e8508c02",
        "vscode": {
          "languageId": "python"
        }
      },
      "outputs": [
        {
          "name": "stdout",
          "output_type": "stream",
          "text": [
            "Soma dos valores por linha\n",
            "H    60\n",
            "M    40\n",
            "dtype: int64\n",
            "Soma dos valores por coluna\n",
            "F    19\n",
            "C    81\n",
            "dtype: int64\n"
          ]
        }
      ],
      "source": [
        "print(\"Soma dos valores por linha\")\n",
        "print(df.sum(axis=1))\n",
        "print(\"Soma dos valores por coluna\")\n",
        "print(df.sum(axis=0))\n"
      ]
    },
    {
      "cell_type": "markdown",
      "metadata": {
        "id": "6t9KAIIgCUI7"
      },
      "source": [
        "# 7. Adicionando novas linhas ou colunas\n",
        "\n",
        "A tabela de dados pode ter uma adição de linhas ou colunas. Para tanto, basta indicar se os novos valores serão colocados em uma **nova linha** com o comando **df.loc['NL1',:]** ou em uma **nova coluna** com o comando **df.loc[:,'NC1']**. O mesmo pode ser efetuado com o comando **iloc**."
      ]
    },
    {
      "cell_type": "code",
      "execution_count": null,
      "metadata": {
        "colab": {
          "base_uri": "https://localhost:8080/",
          "height": 142
        },
        "id": "v_NnSfvhCVHE",
        "outputId": "64ebd12f-5b0b-4a73-dced-c7523e48a711",
        "vscode": {
          "languageId": "python"
        }
      },
      "outputs": [
        {
          "data": {
            "text/html": [
              "<div>\n",
              "<style scoped>\n",
              "    .dataframe tbody tr th:only-of-type {\n",
              "        vertical-align: middle;\n",
              "    }\n",
              "\n",
              "    .dataframe tbody tr th {\n",
              "        vertical-align: top;\n",
              "    }\n",
              "\n",
              "    .dataframe thead th {\n",
              "        text-align: right;\n",
              "    }\n",
              "</style>\n",
              "<table border=\"1\" class=\"dataframe\">\n",
              "  <thead>\n",
              "    <tr style=\"text-align: right;\">\n",
              "      <th></th>\n",
              "      <th>F</th>\n",
              "      <th>C</th>\n",
              "      <th>T</th>\n",
              "    </tr>\n",
              "  </thead>\n",
              "  <tbody>\n",
              "    <tr>\n",
              "      <th>H</th>\n",
              "      <td>15.0</td>\n",
              "      <td>45.0</td>\n",
              "      <td>60.0</td>\n",
              "    </tr>\n",
              "    <tr>\n",
              "      <th>M</th>\n",
              "      <td>4.0</td>\n",
              "      <td>36.0</td>\n",
              "      <td>40.0</td>\n",
              "    </tr>\n",
              "    <tr>\n",
              "      <th>Total</th>\n",
              "      <td>19.0</td>\n",
              "      <td>81.0</td>\n",
              "      <td>100.0</td>\n",
              "    </tr>\n",
              "  </tbody>\n",
              "</table>\n",
              "</div>"
            ],
            "text/plain": [
              "          F     C      T\n",
              "H      15.0  45.0   60.0\n",
              "M       4.0  36.0   40.0\n",
              "Total  19.0  81.0  100.0"
            ]
          },
          "execution_count": 23,
          "metadata": {
            "tags": []
          },
          "output_type": "execute_result"
        }
      ],
      "source": [
        "# Soma das linhas sendo guardada na nova coluna 'T'.\n",
        "df.loc[:,'T'] = df.sum(axis=1)\n",
        "# Soma das colunas sendo guardada na nova linha 'Total'.\n",
        "df.loc['Total',:] = df.sum(axis=0)\n",
        "df"
      ]
    },
    {
      "cell_type": "markdown",
      "metadata": {
        "id": "Alz3PwOCF1cX"
      },
      "source": [
        "# 8. Concatenação de duas tabelas de dados\n",
        "\n",
        "Suponha que deseja-se adicionar uma série de dados como uma linha adicional no final de uma tabela com dados de 5 empresas. Os comando a seguir ilustram como realizar essa operação."
      ]
    },
    {
      "cell_type": "code",
      "execution_count": null,
      "metadata": {
        "colab": {
          "base_uri": "https://localhost:8080/",
          "height": 204
        },
        "id": "uwXC5wCXF0tW",
        "outputId": "cb517fc0-f513-4a30-a3e1-76acdc2cb21c",
        "vscode": {
          "languageId": "python"
        }
      },
      "outputs": [
        {
          "name": "stdout",
          "output_type": "stream",
          "text": [
            "Dados da base de dados histórica\n",
            "   Empresa 1  Empresa 2  Empresa 3  Empresa 4  Empresa 5\n",
            "0          4          9          6          4          2\n",
            "1          9          6          4          2          4\n",
            "2          6          4          2          4          9\n",
            "Dados da base de dados histórica atualizada\n",
            "   Empresa 1  Empresa 2  Empresa 3  Empresa 4  Empresa 5\n",
            "0          4          9          6          4          2\n",
            "1          9          6          4          2          4\n",
            "2          6          4          2          4          9\n",
            "3          5         15         25         35         45\n"
          ]
        }
      ],
      "source": [
        "# Dados históricos de 5 empresas no formato de dicionário: \n",
        "# {'Empresa1': lista_dados1,...}\n",
        "dado_hist = {\n",
        "    'Empresa 1': [4, 9, 6], \n",
        "    'Empresa 2': [9, 6, 4],\n",
        "    'Empresa 3': [6, 4, 2],\n",
        "    'Empresa 4': [4, 2, 4],\n",
        "    'Empresa 5': [2, 4, 9]\n",
        "}\n",
        "\n",
        "# Salvando os dados do histórico de várias empresas na tabela de dados dfh\n",
        "dfh = pd.DataFrame(dado_hist)\n",
        "print(\"Dados da base de dados histórica\")\n",
        "print(dfh)\n",
        "\n",
        "# Obtendo os dados de 1 dia de operação das 5 empresas como uma série.\n",
        "dado_dia   = pd.Series([5, 15, 25, 35, 45],index = ['Empresa 1', 'Empresa 2', 'Empresa 3', 'Empresa 4', 'Empresa 5'])\n",
        "# Transformando o dado de uma série em uma nova linha com índice 3.\n",
        "nova_linha = pd.DataFrame([dado_dia],index=[3])\n",
        "# Adicionando a nova linha na tabela com os dados do histórico das empresas.\n",
        "dfh = pd.concat([dfh, nova_linha])\n",
        "print(\"Dados da base de dados histórica atualizada\")\n",
        "print(dfh)"
      ]
    },
    {
      "cell_type": "markdown",
      "metadata": {
        "id": "mSzk2-0uMHXw"
      },
      "source": [
        "# 9. Adicionando novos dados e eliminando redundâncias\n",
        "\n",
        "A tabela de dados pode adicionar novos dados contidos em outra tabela, bastando empregar o comando **append()**. Para saber as dimensões de uma tabela basta usar o comando **shape**. A eliminação de redundâncias pode ser feita com o comando **drop_duplicates**.\n"
      ]
    },
    {
      "cell_type": "code",
      "execution_count": null,
      "metadata": {
        "colab": {
          "base_uri": "https://localhost:8080/",
          "height": 289
        },
        "id": "j90NCfw6Mv5h",
        "outputId": "adadf801-335c-4462-fecc-14823af6f46c",
        "vscode": {
          "languageId": "python"
        }
      },
      "outputs": [
        {
          "name": "stdout",
          "output_type": "stream",
          "text": [
            "(8, 5)\n",
            "   Empresa 1  Empresa 2  Empresa 3  Empresa 4  Empresa 5\n",
            "0          4          9          6          4          2\n",
            "1          9          6          4          2          4\n",
            "2          6          4          2          4          9\n",
            "3          5         15         25         35         45\n",
            "0          4          9          6          4          2\n",
            "1          9          6          4          2          4\n",
            "2          6          4          2          4          9\n",
            "3          5         15         25         35         45\n",
            "(4, 5)\n",
            "   Empresa 1  Empresa 2  Empresa 3  Empresa 4  Empresa 5\n",
            "0          4          9          6          4          2\n",
            "1          9          6          4          2          4\n",
            "2          6          4          2          4          9\n",
            "3          5         15         25         35         45\n"
          ]
        }
      ],
      "source": [
        "dfh = dfh.append(dfh)\n",
        "print(dfh.shape)\n",
        "print(dfh)\n",
        "dfh.drop_duplicates(inplace=True)\n",
        "print(dfh.shape)\n",
        "print(dfh)"
      ]
    },
    {
      "cell_type": "markdown",
      "metadata": {
        "id": "Q5Aenyq8Omuv"
      },
      "source": [
        "#10. Filtragem de dados\n",
        "\n",
        "É possível realizar a seleção e mesmo a alteração dos dados contidos na tabela de dados. Alguns exemplos:\n",
        "\n",
        "* **dfh[dfh > 4]** - retorna todos os valores de dfh que são maiores que 4. Os demais valores serão mostrados como **'NaN'**;\n",
        "* **dfh[dfh <= 4] = 0** - todos os valores de dfh que forem menores ou iguais que 4 serão trocados pelo valor 0.\n",
        "* **dfh[dfh['Empresa 5'] > 5]** - retorna apenas as linhas tais que os valores contidos na coluna **'Empresa 5'** são maiores que 5;\n",
        "* **dfh[dfh[0] <= 5]** - retorna apenas as colunas tais que os valores contidos na linha **'dfh[0]'** são menores ou iguais que 5;\n"
      ]
    },
    {
      "cell_type": "code",
      "execution_count": null,
      "metadata": {
        "colab": {
          "base_uri": "https://localhost:8080/",
          "height": 357
        },
        "id": "4cN35mkQO9SJ",
        "outputId": "eeb77d40-d454-458d-cb09-66a58a9225d2",
        "vscode": {
          "languageId": "python"
        }
      },
      "outputs": [
        {
          "name": "stdout",
          "output_type": "stream",
          "text": [
            "   Empresa 1  Empresa 2  Empresa 3  Empresa 4  Empresa 5\n",
            "0          4          9          6          4          2\n",
            "1          9          6          4          2          4\n",
            "2          6          4          2          4          9\n",
            "3          5         15         25         35         45\n",
            "   Empresa 1  Empresa 2  Empresa 3  Empresa 4  Empresa 5\n",
            "0        NaN        9.0        6.0        NaN        NaN\n",
            "1        9.0        6.0        NaN        NaN        NaN\n",
            "2        6.0        NaN        NaN        NaN        9.0\n",
            "3        5.0       15.0       25.0       35.0       45.0\n",
            "   Empresa 1  Empresa 2  Empresa 3  Empresa 4  Empresa 5\n",
            "2          6          4          2          4          9\n",
            "3          5         15         25         35         45\n",
            "   Empresa 1  Empresa 2  Empresa 3  Empresa 4  Empresa 5\n",
            "0          4          9          6          4          2\n",
            "   Empresa 1  Empresa 2  Empresa 3  Empresa 4  Empresa 5\n",
            "0          0          9          6          0          0\n",
            "1          9          6          0          0          0\n",
            "2          6          0          0          0          9\n",
            "3          5         15         25         35         45\n"
          ]
        }
      ],
      "source": [
        "print(dfh)\n",
        "print(dfh[dfh > 4])\n",
        "print(dfh[dfh['Empresa 5'] > 5])\n",
        "print(dfh[dfh['Empresa 1'] < 5])\n",
        "dfh2 = dfh.copy()\n",
        "dfh2[dfh2 <= 4] = 0\n",
        "print(dfh2)"
      ]
    },
    {
      "cell_type": "markdown",
      "metadata": {
        "id": "npNjLUdbLBCK"
      },
      "source": [
        "# 11. Exibição da tabela de dados:  parte 1\n",
        "\n",
        "Para exibir o conteúdo de uma tabela de dados de modo que a mesma tenha uma boa aparência, basta empregar os comandos **display**, **HTML** e **to_html** ao invés de apenas **print**. \n",
        "\n",
        "Também é possível mostrar apenas as **n** primeiras linhas de valores de **df** com **df.head(n)** ou **n** últimas linhas de valores de **df** com **df.tail(n)**."
      ]
    },
    {
      "cell_type": "code",
      "execution_count": null,
      "metadata": {
        "colab": {
          "base_uri": "https://localhost:8080/",
          "height": 361
        },
        "id": "mEDyysOWLHyA",
        "outputId": "9908b3ae-1d4d-4ca5-aebc-f8a155cd73c1",
        "vscode": {
          "languageId": "python"
        }
      },
      "outputs": [
        {
          "data": {
            "text/html": [
              "<table border=\"1\" class=\"dataframe\">\n",
              "  <thead>\n",
              "    <tr style=\"text-align: right;\">\n",
              "      <th></th>\n",
              "      <th>Empresa 1</th>\n",
              "      <th>Empresa 2</th>\n",
              "      <th>Empresa 3</th>\n",
              "      <th>Empresa 4</th>\n",
              "      <th>Empresa 5</th>\n",
              "    </tr>\n",
              "  </thead>\n",
              "  <tbody>\n",
              "    <tr>\n",
              "      <th>0</th>\n",
              "      <td>4</td>\n",
              "      <td>9</td>\n",
              "      <td>6</td>\n",
              "      <td>4</td>\n",
              "      <td>2</td>\n",
              "    </tr>\n",
              "    <tr>\n",
              "      <th>1</th>\n",
              "      <td>9</td>\n",
              "      <td>6</td>\n",
              "      <td>4</td>\n",
              "      <td>2</td>\n",
              "      <td>4</td>\n",
              "    </tr>\n",
              "    <tr>\n",
              "      <th>2</th>\n",
              "      <td>6</td>\n",
              "      <td>4</td>\n",
              "      <td>2</td>\n",
              "      <td>4</td>\n",
              "      <td>9</td>\n",
              "    </tr>\n",
              "    <tr>\n",
              "      <th>3</th>\n",
              "      <td>5</td>\n",
              "      <td>15</td>\n",
              "      <td>25</td>\n",
              "      <td>35</td>\n",
              "      <td>45</td>\n",
              "    </tr>\n",
              "  </tbody>\n",
              "</table>"
            ],
            "text/plain": [
              "<IPython.core.display.HTML object>"
            ]
          },
          "metadata": {
            "tags": []
          },
          "output_type": "display_data"
        },
        {
          "data": {
            "text/html": [
              "<table border=\"1\" class=\"dataframe\">\n",
              "  <thead>\n",
              "    <tr style=\"text-align: right;\">\n",
              "      <th></th>\n",
              "      <th>Empresa 1</th>\n",
              "      <th>Empresa 2</th>\n",
              "      <th>Empresa 3</th>\n",
              "      <th>Empresa 4</th>\n",
              "      <th>Empresa 5</th>\n",
              "    </tr>\n",
              "  </thead>\n",
              "  <tbody>\n",
              "    <tr>\n",
              "      <th>0</th>\n",
              "      <td>4</td>\n",
              "      <td>9</td>\n",
              "      <td>6</td>\n",
              "      <td>4</td>\n",
              "      <td>2</td>\n",
              "    </tr>\n",
              "    <tr>\n",
              "      <th>1</th>\n",
              "      <td>9</td>\n",
              "      <td>6</td>\n",
              "      <td>4</td>\n",
              "      <td>2</td>\n",
              "      <td>4</td>\n",
              "    </tr>\n",
              "  </tbody>\n",
              "</table>"
            ],
            "text/plain": [
              "<IPython.core.display.HTML object>"
            ]
          },
          "metadata": {
            "tags": []
          },
          "output_type": "display_data"
        },
        {
          "data": {
            "text/html": [
              "<table border=\"1\" class=\"dataframe\">\n",
              "  <thead>\n",
              "    <tr style=\"text-align: right;\">\n",
              "      <th></th>\n",
              "      <th>Empresa 1</th>\n",
              "      <th>Empresa 2</th>\n",
              "      <th>Empresa 3</th>\n",
              "      <th>Empresa 4</th>\n",
              "      <th>Empresa 5</th>\n",
              "    </tr>\n",
              "  </thead>\n",
              "  <tbody>\n",
              "    <tr>\n",
              "      <th>2</th>\n",
              "      <td>6</td>\n",
              "      <td>4</td>\n",
              "      <td>2</td>\n",
              "      <td>4</td>\n",
              "      <td>9</td>\n",
              "    </tr>\n",
              "    <tr>\n",
              "      <th>3</th>\n",
              "      <td>5</td>\n",
              "      <td>15</td>\n",
              "      <td>25</td>\n",
              "      <td>35</td>\n",
              "      <td>45</td>\n",
              "    </tr>\n",
              "  </tbody>\n",
              "</table>"
            ],
            "text/plain": [
              "<IPython.core.display.HTML object>"
            ]
          },
          "metadata": {
            "tags": []
          },
          "output_type": "display_data"
        }
      ],
      "source": [
        "from IPython.display import display, HTML\n",
        "\n",
        "display(HTML(dfh.to_html()))\n",
        "dfha = dfh.head(2)\n",
        "display(HTML(dfha.to_html()))\n",
        "dfhb = dfh.tail(2)\n",
        "display(HTML(dfhb.to_html()))\n"
      ]
    },
    {
      "cell_type": "markdown",
      "metadata": {
        "id": "71edG6ZcQ6BD"
      },
      "source": [
        "# 11. Exibição da tabela de dados:  parte 2\n",
        "\n",
        "Mapas de cores podem ser utilizados para realçar as diferenças dos dados em uma tabela de dados. Mapa com apenas 1 cor pode ser usado como dado a seguir."
      ]
    },
    {
      "cell_type": "code",
      "execution_count": null,
      "metadata": {
        "colab": {
          "base_uri": "https://localhost:8080/",
          "height": 124
        },
        "id": "gC2NVoQZRSfA",
        "outputId": "c33de985-0199-452d-dd76-6d1561b90c0d",
        "vscode": {
          "languageId": "python"
        }
      },
      "outputs": [
        {
          "data": {
            "text/html": [
              "<style  type=\"text/css\" >\n",
              "    #T_d6d0d9c8_9eb7_11ea_a9b2_0242ac1c0002row0_col0 {\n",
              "            background-color:  #e5ffe5;\n",
              "            color:  #000000;\n",
              "        }    #T_d6d0d9c8_9eb7_11ea_a9b2_0242ac1c0002row0_col1 {\n",
              "            background-color:  #7dc57d;\n",
              "            color:  #000000;\n",
              "        }    #T_d6d0d9c8_9eb7_11ea_a9b2_0242ac1c0002row0_col2 {\n",
              "            background-color:  #bee9be;\n",
              "            color:  #000000;\n",
              "        }    #T_d6d0d9c8_9eb7_11ea_a9b2_0242ac1c0002row0_col3 {\n",
              "            background-color:  #d8f8d8;\n",
              "            color:  #000000;\n",
              "        }    #T_d6d0d9c8_9eb7_11ea_a9b2_0242ac1c0002row0_col4 {\n",
              "            background-color:  #e5ffe5;\n",
              "            color:  #000000;\n",
              "        }    #T_d6d0d9c8_9eb7_11ea_a9b2_0242ac1c0002row1_col0 {\n",
              "            background-color:  #008000;\n",
              "            color:  #f1f1f1;\n",
              "        }    #T_d6d0d9c8_9eb7_11ea_a9b2_0242ac1c0002row1_col1 {\n",
              "            background-color:  #bce8bc;\n",
              "            color:  #000000;\n",
              "        }    #T_d6d0d9c8_9eb7_11ea_a9b2_0242ac1c0002row1_col2 {\n",
              "            background-color:  #d2f4d2;\n",
              "            color:  #000000;\n",
              "        }    #T_d6d0d9c8_9eb7_11ea_a9b2_0242ac1c0002row1_col3 {\n",
              "            background-color:  #e5ffe5;\n",
              "            color:  #000000;\n",
              "        }    #T_d6d0d9c8_9eb7_11ea_a9b2_0242ac1c0002row1_col4 {\n",
              "            background-color:  #dcfadc;\n",
              "            color:  #000000;\n",
              "        }    #T_d6d0d9c8_9eb7_11ea_a9b2_0242ac1c0002row2_col0 {\n",
              "            background-color:  #8acc8a;\n",
              "            color:  #000000;\n",
              "        }    #T_d6d0d9c8_9eb7_11ea_a9b2_0242ac1c0002row2_col1 {\n",
              "            background-color:  #e5ffe5;\n",
              "            color:  #000000;\n",
              "        }    #T_d6d0d9c8_9eb7_11ea_a9b2_0242ac1c0002row2_col2 {\n",
              "            background-color:  #e5ffe5;\n",
              "            color:  #000000;\n",
              "        }    #T_d6d0d9c8_9eb7_11ea_a9b2_0242ac1c0002row2_col3 {\n",
              "            background-color:  #d8f8d8;\n",
              "            color:  #000000;\n",
              "        }    #T_d6d0d9c8_9eb7_11ea_a9b2_0242ac1c0002row2_col4 {\n",
              "            background-color:  #c1ebc1;\n",
              "            color:  #000000;\n",
              "        }    #T_d6d0d9c8_9eb7_11ea_a9b2_0242ac1c0002row3_col0 {\n",
              "            background-color:  #b8e6b8;\n",
              "            color:  #000000;\n",
              "        }    #T_d6d0d9c8_9eb7_11ea_a9b2_0242ac1c0002row3_col1 {\n",
              "            background-color:  #008000;\n",
              "            color:  #f1f1f1;\n",
              "        }    #T_d6d0d9c8_9eb7_11ea_a9b2_0242ac1c0002row3_col2 {\n",
              "            background-color:  #008000;\n",
              "            color:  #f1f1f1;\n",
              "        }    #T_d6d0d9c8_9eb7_11ea_a9b2_0242ac1c0002row3_col3 {\n",
              "            background-color:  #008000;\n",
              "            color:  #f1f1f1;\n",
              "        }    #T_d6d0d9c8_9eb7_11ea_a9b2_0242ac1c0002row3_col4 {\n",
              "            background-color:  #008000;\n",
              "            color:  #f1f1f1;\n",
              "        }</style><table id=\"T_d6d0d9c8_9eb7_11ea_a9b2_0242ac1c0002\" ><thead>    <tr>        <th class=\"blank level0\" ></th>        <th class=\"col_heading level0 col0\" >Empresa 1</th>        <th class=\"col_heading level0 col1\" >Empresa 2</th>        <th class=\"col_heading level0 col2\" >Empresa 3</th>        <th class=\"col_heading level0 col3\" >Empresa 4</th>        <th class=\"col_heading level0 col4\" >Empresa 5</th>    </tr></thead><tbody>\n",
              "                <tr>\n",
              "                        <th id=\"T_d6d0d9c8_9eb7_11ea_a9b2_0242ac1c0002level0_row0\" class=\"row_heading level0 row0\" >0</th>\n",
              "                        <td id=\"T_d6d0d9c8_9eb7_11ea_a9b2_0242ac1c0002row0_col0\" class=\"data row0 col0\" >4</td>\n",
              "                        <td id=\"T_d6d0d9c8_9eb7_11ea_a9b2_0242ac1c0002row0_col1\" class=\"data row0 col1\" >9</td>\n",
              "                        <td id=\"T_d6d0d9c8_9eb7_11ea_a9b2_0242ac1c0002row0_col2\" class=\"data row0 col2\" >6</td>\n",
              "                        <td id=\"T_d6d0d9c8_9eb7_11ea_a9b2_0242ac1c0002row0_col3\" class=\"data row0 col3\" >4</td>\n",
              "                        <td id=\"T_d6d0d9c8_9eb7_11ea_a9b2_0242ac1c0002row0_col4\" class=\"data row0 col4\" >2</td>\n",
              "            </tr>\n",
              "            <tr>\n",
              "                        <th id=\"T_d6d0d9c8_9eb7_11ea_a9b2_0242ac1c0002level0_row1\" class=\"row_heading level0 row1\" >1</th>\n",
              "                        <td id=\"T_d6d0d9c8_9eb7_11ea_a9b2_0242ac1c0002row1_col0\" class=\"data row1 col0\" >9</td>\n",
              "                        <td id=\"T_d6d0d9c8_9eb7_11ea_a9b2_0242ac1c0002row1_col1\" class=\"data row1 col1\" >6</td>\n",
              "                        <td id=\"T_d6d0d9c8_9eb7_11ea_a9b2_0242ac1c0002row1_col2\" class=\"data row1 col2\" >4</td>\n",
              "                        <td id=\"T_d6d0d9c8_9eb7_11ea_a9b2_0242ac1c0002row1_col3\" class=\"data row1 col3\" >2</td>\n",
              "                        <td id=\"T_d6d0d9c8_9eb7_11ea_a9b2_0242ac1c0002row1_col4\" class=\"data row1 col4\" >4</td>\n",
              "            </tr>\n",
              "            <tr>\n",
              "                        <th id=\"T_d6d0d9c8_9eb7_11ea_a9b2_0242ac1c0002level0_row2\" class=\"row_heading level0 row2\" >2</th>\n",
              "                        <td id=\"T_d6d0d9c8_9eb7_11ea_a9b2_0242ac1c0002row2_col0\" class=\"data row2 col0\" >6</td>\n",
              "                        <td id=\"T_d6d0d9c8_9eb7_11ea_a9b2_0242ac1c0002row2_col1\" class=\"data row2 col1\" >4</td>\n",
              "                        <td id=\"T_d6d0d9c8_9eb7_11ea_a9b2_0242ac1c0002row2_col2\" class=\"data row2 col2\" >2</td>\n",
              "                        <td id=\"T_d6d0d9c8_9eb7_11ea_a9b2_0242ac1c0002row2_col3\" class=\"data row2 col3\" >4</td>\n",
              "                        <td id=\"T_d6d0d9c8_9eb7_11ea_a9b2_0242ac1c0002row2_col4\" class=\"data row2 col4\" >9</td>\n",
              "            </tr>\n",
              "            <tr>\n",
              "                        <th id=\"T_d6d0d9c8_9eb7_11ea_a9b2_0242ac1c0002level0_row3\" class=\"row_heading level0 row3\" >3</th>\n",
              "                        <td id=\"T_d6d0d9c8_9eb7_11ea_a9b2_0242ac1c0002row3_col0\" class=\"data row3 col0\" >5</td>\n",
              "                        <td id=\"T_d6d0d9c8_9eb7_11ea_a9b2_0242ac1c0002row3_col1\" class=\"data row3 col1\" >15</td>\n",
              "                        <td id=\"T_d6d0d9c8_9eb7_11ea_a9b2_0242ac1c0002row3_col2\" class=\"data row3 col2\" >25</td>\n",
              "                        <td id=\"T_d6d0d9c8_9eb7_11ea_a9b2_0242ac1c0002row3_col3\" class=\"data row3 col3\" >35</td>\n",
              "                        <td id=\"T_d6d0d9c8_9eb7_11ea_a9b2_0242ac1c0002row3_col4\" class=\"data row3 col4\" >45</td>\n",
              "            </tr>\n",
              "    </tbody></table>"
            ],
            "text/plain": [
              "<pandas.io.formats.style.Styler at 0x7f36f8853be0>"
            ]
          },
          "execution_count": 19,
          "metadata": {
            "tags": []
          },
          "output_type": "execute_result"
        }
      ],
      "source": [
        "# Mais detalhes em: https://pandas.pydata.org/pandas-docs/stable/user_guide/style.html\n",
        "\n",
        "import seaborn as sns\n",
        "\n",
        "cm = sns.light_palette(\"green\", as_cmap=True)\n",
        "\n",
        "s = dfh.style.background_gradient(cmap=cm)\n",
        "s"
      ]
    },
    {
      "cell_type": "markdown",
      "metadata": {
        "id": "06tHJVGPT8Q9"
      },
      "source": [
        "# 11. Exibição da tabela de dados:  parte 3\n",
        "\n",
        "Mapas de cores pré-estabelecidos pode ser utilizados na tabela. Alguns exemplos são: 'viridis', 'magma', e 'plasma'."
      ]
    },
    {
      "cell_type": "code",
      "execution_count": null,
      "metadata": {
        "colab": {
          "base_uri": "https://localhost:8080/",
          "height": 124
        },
        "id": "IDSBA-WxSRdT",
        "outputId": "2eaa1217-7802-401c-ff66-664dedea5001",
        "vscode": {
          "languageId": "python"
        }
      },
      "outputs": [
        {
          "data": {
            "text/html": [
              "<style  type=\"text/css\" >\n",
              "    #T_e97bfd14_9eb7_11ea_a9b2_0242ac1c0002row0_col0 {\n",
              "            background-color:  #440154;\n",
              "            color:  #f1f1f1;\n",
              "        }    #T_e97bfd14_9eb7_11ea_a9b2_0242ac1c0002row0_col1 {\n",
              "            background-color:  #25858e;\n",
              "            color:  #000000;\n",
              "        }    #T_e97bfd14_9eb7_11ea_a9b2_0242ac1c0002row0_col2 {\n",
              "            background-color:  #443b84;\n",
              "            color:  #f1f1f1;\n",
              "        }    #T_e97bfd14_9eb7_11ea_a9b2_0242ac1c0002row0_col3 {\n",
              "            background-color:  #481769;\n",
              "            color:  #f1f1f1;\n",
              "        }    #T_e97bfd14_9eb7_11ea_a9b2_0242ac1c0002row0_col4 {\n",
              "            background-color:  #440154;\n",
              "            color:  #f1f1f1;\n",
              "        }    #T_e97bfd14_9eb7_11ea_a9b2_0242ac1c0002row1_col0 {\n",
              "            background-color:  #fde725;\n",
              "            color:  #000000;\n",
              "        }    #T_e97bfd14_9eb7_11ea_a9b2_0242ac1c0002row1_col1 {\n",
              "            background-color:  #433e85;\n",
              "            color:  #f1f1f1;\n",
              "        }    #T_e97bfd14_9eb7_11ea_a9b2_0242ac1c0002row1_col2 {\n",
              "            background-color:  #482071;\n",
              "            color:  #f1f1f1;\n",
              "        }    #T_e97bfd14_9eb7_11ea_a9b2_0242ac1c0002row1_col3 {\n",
              "            background-color:  #440154;\n",
              "            color:  #f1f1f1;\n",
              "        }    #T_e97bfd14_9eb7_11ea_a9b2_0242ac1c0002row1_col4 {\n",
              "            background-color:  #471164;\n",
              "            color:  #f1f1f1;\n",
              "        }    #T_e97bfd14_9eb7_11ea_a9b2_0242ac1c0002row2_col0 {\n",
              "            background-color:  #2a788e;\n",
              "            color:  #000000;\n",
              "        }    #T_e97bfd14_9eb7_11ea_a9b2_0242ac1c0002row2_col1 {\n",
              "            background-color:  #440154;\n",
              "            color:  #f1f1f1;\n",
              "        }    #T_e97bfd14_9eb7_11ea_a9b2_0242ac1c0002row2_col2 {\n",
              "            background-color:  #440154;\n",
              "            color:  #f1f1f1;\n",
              "        }    #T_e97bfd14_9eb7_11ea_a9b2_0242ac1c0002row2_col3 {\n",
              "            background-color:  #481769;\n",
              "            color:  #f1f1f1;\n",
              "        }    #T_e97bfd14_9eb7_11ea_a9b2_0242ac1c0002row2_col4 {\n",
              "            background-color:  #453882;\n",
              "            color:  #f1f1f1;\n",
              "        }    #T_e97bfd14_9eb7_11ea_a9b2_0242ac1c0002row3_col0 {\n",
              "            background-color:  #414487;\n",
              "            color:  #f1f1f1;\n",
              "        }    #T_e97bfd14_9eb7_11ea_a9b2_0242ac1c0002row3_col1 {\n",
              "            background-color:  #fde725;\n",
              "            color:  #000000;\n",
              "        }    #T_e97bfd14_9eb7_11ea_a9b2_0242ac1c0002row3_col2 {\n",
              "            background-color:  #fde725;\n",
              "            color:  #000000;\n",
              "        }    #T_e97bfd14_9eb7_11ea_a9b2_0242ac1c0002row3_col3 {\n",
              "            background-color:  #fde725;\n",
              "            color:  #000000;\n",
              "        }    #T_e97bfd14_9eb7_11ea_a9b2_0242ac1c0002row3_col4 {\n",
              "            background-color:  #fde725;\n",
              "            color:  #000000;\n",
              "        }</style><table id=\"T_e97bfd14_9eb7_11ea_a9b2_0242ac1c0002\" ><thead>    <tr>        <th class=\"blank level0\" ></th>        <th class=\"col_heading level0 col0\" >Empresa 1</th>        <th class=\"col_heading level0 col1\" >Empresa 2</th>        <th class=\"col_heading level0 col2\" >Empresa 3</th>        <th class=\"col_heading level0 col3\" >Empresa 4</th>        <th class=\"col_heading level0 col4\" >Empresa 5</th>    </tr></thead><tbody>\n",
              "                <tr>\n",
              "                        <th id=\"T_e97bfd14_9eb7_11ea_a9b2_0242ac1c0002level0_row0\" class=\"row_heading level0 row0\" >0</th>\n",
              "                        <td id=\"T_e97bfd14_9eb7_11ea_a9b2_0242ac1c0002row0_col0\" class=\"data row0 col0\" >4</td>\n",
              "                        <td id=\"T_e97bfd14_9eb7_11ea_a9b2_0242ac1c0002row0_col1\" class=\"data row0 col1\" >9</td>\n",
              "                        <td id=\"T_e97bfd14_9eb7_11ea_a9b2_0242ac1c0002row0_col2\" class=\"data row0 col2\" >6</td>\n",
              "                        <td id=\"T_e97bfd14_9eb7_11ea_a9b2_0242ac1c0002row0_col3\" class=\"data row0 col3\" >4</td>\n",
              "                        <td id=\"T_e97bfd14_9eb7_11ea_a9b2_0242ac1c0002row0_col4\" class=\"data row0 col4\" >2</td>\n",
              "            </tr>\n",
              "            <tr>\n",
              "                        <th id=\"T_e97bfd14_9eb7_11ea_a9b2_0242ac1c0002level0_row1\" class=\"row_heading level0 row1\" >1</th>\n",
              "                        <td id=\"T_e97bfd14_9eb7_11ea_a9b2_0242ac1c0002row1_col0\" class=\"data row1 col0\" >9</td>\n",
              "                        <td id=\"T_e97bfd14_9eb7_11ea_a9b2_0242ac1c0002row1_col1\" class=\"data row1 col1\" >6</td>\n",
              "                        <td id=\"T_e97bfd14_9eb7_11ea_a9b2_0242ac1c0002row1_col2\" class=\"data row1 col2\" >4</td>\n",
              "                        <td id=\"T_e97bfd14_9eb7_11ea_a9b2_0242ac1c0002row1_col3\" class=\"data row1 col3\" >2</td>\n",
              "                        <td id=\"T_e97bfd14_9eb7_11ea_a9b2_0242ac1c0002row1_col4\" class=\"data row1 col4\" >4</td>\n",
              "            </tr>\n",
              "            <tr>\n",
              "                        <th id=\"T_e97bfd14_9eb7_11ea_a9b2_0242ac1c0002level0_row2\" class=\"row_heading level0 row2\" >2</th>\n",
              "                        <td id=\"T_e97bfd14_9eb7_11ea_a9b2_0242ac1c0002row2_col0\" class=\"data row2 col0\" >6</td>\n",
              "                        <td id=\"T_e97bfd14_9eb7_11ea_a9b2_0242ac1c0002row2_col1\" class=\"data row2 col1\" >4</td>\n",
              "                        <td id=\"T_e97bfd14_9eb7_11ea_a9b2_0242ac1c0002row2_col2\" class=\"data row2 col2\" >2</td>\n",
              "                        <td id=\"T_e97bfd14_9eb7_11ea_a9b2_0242ac1c0002row2_col3\" class=\"data row2 col3\" >4</td>\n",
              "                        <td id=\"T_e97bfd14_9eb7_11ea_a9b2_0242ac1c0002row2_col4\" class=\"data row2 col4\" >9</td>\n",
              "            </tr>\n",
              "            <tr>\n",
              "                        <th id=\"T_e97bfd14_9eb7_11ea_a9b2_0242ac1c0002level0_row3\" class=\"row_heading level0 row3\" >3</th>\n",
              "                        <td id=\"T_e97bfd14_9eb7_11ea_a9b2_0242ac1c0002row3_col0\" class=\"data row3 col0\" >5</td>\n",
              "                        <td id=\"T_e97bfd14_9eb7_11ea_a9b2_0242ac1c0002row3_col1\" class=\"data row3 col1\" >15</td>\n",
              "                        <td id=\"T_e97bfd14_9eb7_11ea_a9b2_0242ac1c0002row3_col2\" class=\"data row3 col2\" >25</td>\n",
              "                        <td id=\"T_e97bfd14_9eb7_11ea_a9b2_0242ac1c0002row3_col3\" class=\"data row3 col3\" >35</td>\n",
              "                        <td id=\"T_e97bfd14_9eb7_11ea_a9b2_0242ac1c0002row3_col4\" class=\"data row3 col4\" >45</td>\n",
              "            </tr>\n",
              "    </tbody></table>"
            ],
            "text/plain": [
              "<pandas.io.formats.style.Styler at 0x7f36f882c828>"
            ]
          },
          "execution_count": 22,
          "metadata": {
            "tags": []
          },
          "output_type": "execute_result"
        }
      ],
      "source": [
        "# Uses the full color range\n",
        "dfh.loc[:4].style.background_gradient(cmap='viridis')"
      ]
    },
    {
      "cell_type": "markdown",
      "metadata": {
        "id": "0o-LX3skUcxY"
      },
      "source": [
        "# 11. Exibição da tabela de dados:  parte 4\n",
        "\n",
        "Para obter os possíveis mapas de cores que podem ser aplicados na tabela de dados seguem os comandos que mostram os nomes desses possíveis mapas e suas respectivas cores."
      ]
    },
    {
      "cell_type": "code",
      "execution_count": null,
      "metadata": {
        "colab": {
          "base_uri": "https://localhost:8080/",
          "height": 1000
        },
        "id": "5i_CKZ0jScQ2",
        "outputId": "5459bb9c-3e6c-4220-c892-5186951fd034",
        "vscode": {
          "languageId": "python"
        }
      },
      "outputs": [
        {
          "name": "stdout",
          "output_type": "stream",
          "text": [
            "['rgb(150,0,90)', 'rgb(0,0,200)', 'rgb(0,25,255)', 'rgb(0,152,255)', 'rgb(44,255,150)', 'rgb(151,255,0)', 'rgb(255,234,0)', 'rgb(255,111,0)', 'rgb(255,0,0)']\n"
          ]
        },
        {
          "data": {
            "text/html": [
              "<html>\n",
              "<head><meta charset=\"utf-8\" /></head>\n",
              "<body>\n",
              "    <div>\n",
              "            <script src=\"https://cdnjs.cloudflare.com/ajax/libs/mathjax/2.7.5/MathJax.js?config=TeX-AMS-MML_SVG\"></script><script type=\"text/javascript\">if (window.MathJax) {MathJax.Hub.Config({SVG: {font: \"STIX-Web\"}});}</script>\n",
              "                <script type=\"text/javascript\">window.PlotlyConfig = {MathJaxConfig: 'local'};</script>\n",
              "        <script src=\"https://cdn.plot.ly/plotly-latest.min.js\"></script>    \n",
              "            <div id=\"50478e70-3f57-45f9-b92a-bebb073a3f6b\" class=\"plotly-graph-div\" style=\"height:2600px; width:100%;\"></div>\n",
              "            <script type=\"text/javascript\">\n",
              "                \n",
              "                    window.PLOTLYENV=window.PLOTLYENV || {};\n",
              "                    \n",
              "                if (document.getElementById(\"50478e70-3f57-45f9-b92a-bebb073a3f6b\")) {\n",
              "                    Plotly.newPlot(\n",
              "                        '50478e70-3f57-45f9-b92a-bebb073a3f6b',\n",
              "                        [{\"customdata\": [0, 1, 2, 3, 4, 5, 6], \"hovertemplate\": \"%{y}[%{customdata}] = %{marker.color}<extra></extra>\", \"marker\": {\"color\": [\"rgb(237, 229, 207)\", \"rgb(224, 194, 162)\", \"rgb(211, 156, 131)\", \"rgb(193, 118, 111)\", \"rgb(166, 84, 97)\", \"rgb(129, 55, 83)\", \"rgb(84, 31, 63)\"]}, \"orientation\": \"h\", \"type\": \"bar\", \"x\": [1, 1, 1, 1, 1, 1, 1], \"y\": [\"Brwnyl\", \"Brwnyl\", \"Brwnyl\", \"Brwnyl\", \"Brwnyl\", \"Brwnyl\", \"Brwnyl\"]}, {\"customdata\": [0, 1, 2, 3, 4, 5, 6], \"hovertemplate\": \"%{y}[%{customdata}] = %{marker.color}<extra></extra>\", \"marker\": {\"color\": [\"rgb(75, 41, 145)\", \"rgb(135, 44, 162)\", \"rgb(192, 54, 157)\", \"rgb(234, 79, 136)\", \"rgb(250, 120, 118)\", \"rgb(246, 169, 122)\", \"rgb(237, 217, 163)\"]}, \"orientation\": \"h\", \"type\": \"bar\", \"x\": [1, 1, 1, 1, 1, 1, 1], \"y\": [\"Agsunset\", \"Agsunset\", \"Agsunset\", \"Agsunset\", \"Agsunset\", \"Agsunset\", \"Agsunset\"]}, {\"customdata\": [0, 1, 2, 3, 4, 5, 6], \"hovertemplate\": \"%{y}[%{customdata}] = %{marker.color}<extra></extra>\", \"marker\": {\"color\": [\"rgb(252, 222, 156)\", \"rgb(250, 164, 118)\", \"rgb(240, 116, 110)\", \"rgb(227, 79, 111)\", \"rgb(220, 57, 119)\", \"rgb(185, 37, 122)\", \"rgb(124, 29, 111)\"]}, \"orientation\": \"h\", \"type\": \"bar\", \"x\": [1, 1, 1, 1, 1, 1, 1], \"y\": [\"Sunsetdark\", \"Sunsetdark\", \"Sunsetdark\", \"Sunsetdark\", \"Sunsetdark\", \"Sunsetdark\", \"Sunsetdark\"]}, {\"customdata\": [0, 1, 2, 3, 4, 5, 6], \"hovertemplate\": \"%{y}[%{customdata}] = %{marker.color}<extra></extra>\", \"marker\": {\"color\": [\"rgb(243, 203, 211)\", \"rgb(234, 169, 189)\", \"rgb(221, 136, 172)\", \"rgb(202, 105, 157)\", \"rgb(177, 77, 142)\", \"rgb(145, 53, 125)\", \"rgb(108, 33, 103)\"]}, \"orientation\": \"h\", \"type\": \"bar\", \"x\": [1, 1, 1, 1, 1, 1, 1], \"y\": [\"Magenta\", \"Magenta\", \"Magenta\", \"Magenta\", \"Magenta\", \"Magenta\", \"Magenta\"]}, {\"customdata\": [0, 1, 2, 3, 4, 5, 6], \"hovertemplate\": \"%{y}[%{customdata}] = %{marker.color}<extra></extra>\", \"marker\": {\"color\": [\"rgb(243, 231, 155)\", \"rgb(250, 196, 132)\", \"rgb(248, 160, 126)\", \"rgb(235, 127, 134)\", \"rgb(206, 102, 147)\", \"rgb(160, 89, 160)\", \"rgb(92, 83, 165)\"]}, \"orientation\": \"h\", \"type\": \"bar\", \"x\": [1, 1, 1, 1, 1, 1, 1], \"y\": [\"Sunset\", \"Sunset\", \"Sunset\", \"Sunset\", \"Sunset\", \"Sunset\", \"Sunset\"]}, {\"customdata\": [0, 1, 2, 3, 4, 5, 6], \"hovertemplate\": \"%{y}[%{customdata}] = %{marker.color}<extra></extra>\", \"marker\": {\"color\": [\"rgb(249, 221, 218)\", \"rgb(242, 185, 196)\", \"rgb(229, 151, 185)\", \"rgb(206, 120, 179)\", \"rgb(173, 95, 173)\", \"rgb(131, 75, 160)\", \"rgb(87, 59, 136)\"]}, \"orientation\": \"h\", \"type\": \"bar\", \"x\": [1, 1, 1, 1, 1, 1, 1], \"y\": [\"Purpor\", \"Purpor\", \"Purpor\", \"Purpor\", \"Purpor\", \"Purpor\", \"Purpor\"]}, {\"customdata\": [0, 1, 2, 3, 4, 5, 6], \"hovertemplate\": \"%{y}[%{customdata}] = %{marker.color}<extra></extra>\", \"marker\": {\"color\": [\"rgb(243, 224, 247)\", \"rgb(228, 199, 241)\", \"rgb(209, 175, 232)\", \"rgb(185, 152, 221)\", \"rgb(159, 130, 206)\", \"rgb(130, 109, 186)\", \"rgb(99, 88, 159)\"]}, \"orientation\": \"h\", \"type\": \"bar\", \"x\": [1, 1, 1, 1, 1, 1, 1], \"y\": [\"Purp\", \"Purp\", \"Purp\", \"Purp\", \"Purp\", \"Purp\", \"Purp\"]}, {\"customdata\": [0, 1, 2, 3, 4, 5, 6], \"hovertemplate\": \"%{y}[%{customdata}] = %{marker.color}<extra></extra>\", \"marker\": {\"color\": [\"rgb(176, 242, 188)\", \"rgb(137, 232, 172)\", \"rgb(103, 219, 165)\", \"rgb(76, 200, 163)\", \"rgb(56, 178, 163)\", \"rgb(44, 152, 160)\", \"rgb(37, 125, 152)\"]}, \"orientation\": \"h\", \"type\": \"bar\", \"x\": [1, 1, 1, 1, 1, 1, 1], \"y\": [\"Tealgrn\", \"Tealgrn\", \"Tealgrn\", \"Tealgrn\", \"Tealgrn\", \"Tealgrn\", \"Tealgrn\"]}, {\"customdata\": [0, 1, 2, 3, 4, 5, 6], \"hovertemplate\": \"%{y}[%{customdata}] = %{marker.color}<extra></extra>\", \"marker\": {\"color\": [\"rgb(209, 238, 234)\", \"rgb(168, 219, 217)\", \"rgb(133, 196, 201)\", \"rgb(104, 171, 184)\", \"rgb(79, 144, 166)\", \"rgb(59, 115, 143)\", \"rgb(42, 86, 116)\"]}, \"orientation\": \"h\", \"type\": \"bar\", \"x\": [1, 1, 1, 1, 1, 1, 1], \"y\": [\"Teal\", \"Teal\", \"Teal\", \"Teal\", \"Teal\", \"Teal\", \"Teal\"]}, {\"customdata\": [0, 1, 2, 3, 4, 5, 6], \"hovertemplate\": \"%{y}[%{customdata}] = %{marker.color}<extra></extra>\", \"marker\": {\"color\": [\"rgb(247, 254, 174)\", \"rgb(183, 230, 165)\", \"rgb(124, 203, 162)\", \"rgb(70, 174, 160)\", \"rgb(8, 144, 153)\", \"rgb(0, 113, 139)\", \"rgb(4, 82, 117)\"]}, \"orientation\": \"h\", \"type\": \"bar\", \"x\": [1, 1, 1, 1, 1, 1, 1], \"y\": [\"Bluyl\", \"Bluyl\", \"Bluyl\", \"Bluyl\", \"Bluyl\", \"Bluyl\", \"Bluyl\"]}, {\"customdata\": [0, 1, 2, 3, 4, 5, 6], \"hovertemplate\": \"%{y}[%{customdata}] = %{marker.color}<extra></extra>\", \"marker\": {\"color\": [\"rgb(36, 86, 104)\", \"rgb(15, 114, 121)\", \"rgb(13, 143, 129)\", \"rgb(57, 171, 126)\", \"rgb(110, 197, 116)\", \"rgb(169, 220, 103)\", \"rgb(237, 239, 93)\"]}, \"orientation\": \"h\", \"type\": \"bar\", \"x\": [1, 1, 1, 1, 1, 1, 1], \"y\": [\"Aggrnyl\", \"Aggrnyl\", \"Aggrnyl\", \"Aggrnyl\", \"Aggrnyl\", \"Aggrnyl\", \"Aggrnyl\"]}, {\"customdata\": [0, 1, 2, 3, 4, 5, 6], \"hovertemplate\": \"%{y}[%{customdata}] = %{marker.color}<extra></extra>\", \"marker\": {\"color\": [\"rgb(211, 242, 163)\", \"rgb(151, 225, 150)\", \"rgb(108, 192, 139)\", \"rgb(76, 155, 130)\", \"rgb(33, 122, 121)\", \"rgb(16, 89, 101)\", \"rgb(7, 64, 80)\"]}, \"orientation\": \"h\", \"type\": \"bar\", \"x\": [1, 1, 1, 1, 1, 1, 1], \"y\": [\"Emrld\", \"Emrld\", \"Emrld\", \"Emrld\", \"Emrld\", \"Emrld\", \"Emrld\"]}, {\"customdata\": [0, 1, 2, 3, 4, 5, 6], \"hovertemplate\": \"%{y}[%{customdata}] = %{marker.color}<extra></extra>\", \"marker\": {\"color\": [\"rgb(210, 251, 212)\", \"rgb(165, 219, 194)\", \"rgb(123, 188, 176)\", \"rgb(85, 156, 158)\", \"rgb(58, 124, 137)\", \"rgb(35, 93, 114)\", \"rgb(18, 63, 90)\"]}, \"orientation\": \"h\", \"type\": \"bar\", \"x\": [1, 1, 1, 1, 1, 1, 1], \"y\": [\"Darkmint\", \"Darkmint\", \"Darkmint\", \"Darkmint\", \"Darkmint\", \"Darkmint\", \"Darkmint\"]}, {\"customdata\": [0, 1, 2, 3, 4, 5, 6], \"hovertemplate\": \"%{y}[%{customdata}] = %{marker.color}<extra></extra>\", \"marker\": {\"color\": [\"rgb(196, 230, 195)\", \"rgb(150, 210, 164)\", \"rgb(109, 188, 144)\", \"rgb(77, 162, 132)\", \"rgb(54, 135, 122)\", \"rgb(38, 107, 110)\", \"rgb(29, 79, 96)\"]}, \"orientation\": \"h\", \"type\": \"bar\", \"x\": [1, 1, 1, 1, 1, 1, 1], \"y\": [\"Blugrn\", \"Blugrn\", \"Blugrn\", \"Blugrn\", \"Blugrn\", \"Blugrn\", \"Blugrn\"]}, {\"customdata\": [0, 1, 2, 3, 4, 5, 6], \"hovertemplate\": \"%{y}[%{customdata}] = %{marker.color}<extra></extra>\", \"marker\": {\"color\": [\"rgb(228, 241, 225)\", \"rgb(180, 217, 204)\", \"rgb(137, 192, 182)\", \"rgb(99, 166, 160)\", \"rgb(68, 140, 138)\", \"rgb(40, 114, 116)\", \"rgb(13, 88, 95)\"]}, \"orientation\": \"h\", \"type\": \"bar\", \"x\": [1, 1, 1, 1, 1, 1, 1], \"y\": [\"Mint\", \"Mint\", \"Mint\", \"Mint\", \"Mint\", \"Mint\", \"Mint\"]}, {\"customdata\": [0, 1, 2, 3, 4, 5, 6], \"hovertemplate\": \"%{y}[%{customdata}] = %{marker.color}<extra></extra>\", \"marker\": {\"color\": [\"rgb(254, 246, 181)\", \"rgb(255, 221, 154)\", \"rgb(255, 194, 133)\", \"rgb(255, 166, 121)\", \"rgb(250, 138, 118)\", \"rgb(241, 109, 122)\", \"rgb(225, 83, 131)\"]}, \"orientation\": \"h\", \"type\": \"bar\", \"x\": [1, 1, 1, 1, 1, 1, 1], \"y\": [\"Pinkyl\", \"Pinkyl\", \"Pinkyl\", \"Pinkyl\", \"Pinkyl\", \"Pinkyl\", \"Pinkyl\"]}, {\"customdata\": [0, 1, 2, 3, 4, 5, 6], \"hovertemplate\": \"%{y}[%{customdata}] = %{marker.color}<extra></extra>\", \"marker\": {\"color\": [\"rgb(253, 224, 197)\", \"rgb(250, 203, 166)\", \"rgb(248, 181, 139)\", \"rgb(245, 158, 114)\", \"rgb(242, 133, 93)\", \"rgb(239, 106, 76)\", \"rgb(235, 74, 64)\"]}, \"orientation\": \"h\", \"type\": \"bar\", \"x\": [1, 1, 1, 1, 1, 1, 1], \"y\": [\"Peach\", \"Peach\", \"Peach\", \"Peach\", \"Peach\", \"Peach\", \"Peach\"]}, {\"customdata\": [0, 1, 2, 3, 4, 5, 6], \"hovertemplate\": \"%{y}[%{customdata}] = %{marker.color}<extra></extra>\", \"marker\": {\"color\": [\"rgb(236, 218, 154)\", \"rgb(239, 196, 126)\", \"rgb(243, 173, 106)\", \"rgb(247, 148, 93)\", \"rgb(249, 123, 87)\", \"rgb(246, 99, 86)\", \"rgb(238, 77, 90)\"]}, \"orientation\": \"h\", \"type\": \"bar\", \"x\": [1, 1, 1, 1, 1, 1, 1], \"y\": [\"Oryel\", \"Oryel\", \"Oryel\", \"Oryel\", \"Oryel\", \"Oryel\", \"Oryel\"]}, {\"customdata\": [0, 1, 2, 3, 4, 5, 6], \"hovertemplate\": \"%{y}[%{customdata}] = %{marker.color}<extra></extra>\", \"marker\": {\"color\": [\"rgb(246, 210, 169)\", \"rgb(245, 183, 142)\", \"rgb(241, 156, 124)\", \"rgb(234, 129, 113)\", \"rgb(221, 104, 108)\", \"rgb(202, 82, 104)\", \"rgb(177, 63, 100)\"]}, \"orientation\": \"h\", \"type\": \"bar\", \"x\": [1, 1, 1, 1, 1, 1, 1], \"y\": [\"Redor\", \"Redor\", \"Redor\", \"Redor\", \"Redor\", \"Redor\", \"Redor\"]}, {\"customdata\": [0, 1, 2, 3, 4, 5, 6], \"hovertemplate\": \"%{y}[%{customdata}] = %{marker.color}<extra></extra>\", \"marker\": {\"color\": [\"rgb(251, 230, 197)\", \"rgb(245, 186, 152)\", \"rgb(238, 138, 130)\", \"rgb(220, 113, 118)\", \"rgb(200, 88, 108)\", \"rgb(156, 63, 93)\", \"rgb(112, 40, 74)\"]}, \"orientation\": \"h\", \"type\": \"bar\", \"x\": [1, 1, 1, 1, 1, 1, 1], \"y\": [\"Burgyl\", \"Burgyl\", \"Burgyl\", \"Burgyl\", \"Burgyl\", \"Burgyl\", \"Burgyl\"]}, {\"customdata\": [0, 1, 2, 3, 4, 5, 6], \"hovertemplate\": \"%{y}[%{customdata}] = %{marker.color}<extra></extra>\", \"marker\": {\"color\": [\"rgb(255, 198, 196)\", \"rgb(244, 163, 168)\", \"rgb(227, 129, 145)\", \"rgb(204, 96, 125)\", \"rgb(173, 70, 108)\", \"rgb(139, 48, 88)\", \"rgb(103, 32, 68)\"]}, \"orientation\": \"h\", \"type\": \"bar\", \"x\": [1, 1, 1, 1, 1, 1, 1], \"y\": [\"Burg\", \"Burg\", \"Burg\", \"Burg\", \"Burg\", \"Burg\", \"Burg\"]}, {\"customdata\": [0, 1, 2, 3, 4, 5, 6, 7, 8, 9, 10, 11], \"hovertemplate\": \"%{y}[%{customdata}] = %{marker.color}<extra></extra>\", \"marker\": {\"color\": [\"rgb(254, 245, 244)\", \"rgb(222, 224, 210)\", \"rgb(189, 206, 181)\", \"rgb(153, 189, 156)\", \"rgb(110, 173, 138)\", \"rgb(65, 157, 129)\", \"rgb(25, 137, 125)\", \"rgb(18, 116, 117)\", \"rgb(25, 94, 106)\", \"rgb(28, 72, 93)\", \"rgb(25, 51, 80)\", \"rgb(20, 29, 67)\"]}, \"orientation\": \"h\", \"type\": \"bar\", \"x\": [1, 1, 1, 1, 1, 1, 1, 1, 1, 1, 1, 1], \"y\": [\"tempo\", \"tempo\", \"tempo\", \"tempo\", \"tempo\", \"tempo\", \"tempo\", \"tempo\", \"tempo\", \"tempo\", \"tempo\", \"tempo\"]}, {\"customdata\": [0, 1, 2, 3, 4, 5, 6, 7, 8, 9, 10, 11], \"hovertemplate\": \"%{y}[%{customdata}] = %{marker.color}<extra></extra>\", \"marker\": {\"color\": [\"rgb(241, 236, 236)\", \"rgb(230, 209, 203)\", \"rgb(221, 182, 170)\", \"rgb(213, 156, 137)\", \"rgb(205, 129, 103)\", \"rgb(196, 102, 73)\", \"rgb(186, 74, 47)\", \"rgb(172, 44, 36)\", \"rgb(149, 19, 39)\", \"rgb(120, 14, 40)\", \"rgb(89, 13, 31)\", \"rgb(60, 9, 17)\"]}, \"orientation\": \"h\", \"type\": \"bar\", \"x\": [1, 1, 1, 1, 1, 1, 1, 1, 1, 1, 1, 1], \"y\": [\"amp\", \"amp\", \"amp\", \"amp\", \"amp\", \"amp\", \"amp\", \"amp\", \"amp\", \"amp\", \"amp\", \"amp\"]}, {\"customdata\": [0, 1, 2, 3, 4, 5, 6, 7, 8, 9, 10, 11], \"hovertemplate\": \"%{y}[%{customdata}] = %{marker.color}<extra></extra>\", \"marker\": {\"color\": [\"rgb(254, 252, 205)\", \"rgb(239, 225, 156)\", \"rgb(221, 201, 106)\", \"rgb(194, 182, 59)\", \"rgb(157, 167, 21)\", \"rgb(116, 153, 5)\", \"rgb(75, 138, 20)\", \"rgb(35, 121, 36)\", \"rgb(11, 100, 44)\", \"rgb(18, 78, 43)\", \"rgb(25, 56, 34)\", \"rgb(23, 35, 18)\"]}, \"orientation\": \"h\", \"type\": \"bar\", \"x\": [1, 1, 1, 1, 1, 1, 1, 1, 1, 1, 1, 1], \"y\": [\"speed\", \"speed\", \"speed\", \"speed\", \"speed\", \"speed\", \"speed\", \"speed\", \"speed\", \"speed\", \"speed\", \"speed\"]}, {\"customdata\": [0, 1, 2, 3, 4, 5, 6, 7, 8, 9, 10, 11], \"hovertemplate\": \"%{y}[%{customdata}] = %{marker.color}<extra></extra>\", \"marker\": {\"color\": [\"rgb(253, 237, 176)\", \"rgb(250, 205, 145)\", \"rgb(246, 173, 119)\", \"rgb(240, 142, 98)\", \"rgb(231, 109, 84)\", \"rgb(216, 80, 83)\", \"rgb(195, 56, 90)\", \"rgb(168, 40, 96)\", \"rgb(138, 29, 99)\", \"rgb(107, 24, 93)\", \"rgb(76, 21, 80)\", \"rgb(47, 15, 61)\"]}, \"orientation\": \"h\", \"type\": \"bar\", \"x\": [1, 1, 1, 1, 1, 1, 1, 1, 1, 1, 1, 1], \"y\": [\"matter\", \"matter\", \"matter\", \"matter\", \"matter\", \"matter\", \"matter\", \"matter\", \"matter\", \"matter\", \"matter\", \"matter\"]}, {\"customdata\": [0, 1, 2, 3, 4, 5, 6, 7, 8, 9, 10, 11], \"hovertemplate\": \"%{y}[%{customdata}] = %{marker.color}<extra></extra>\", \"marker\": {\"color\": [\"rgb(214, 249, 207)\", \"rgb(186, 228, 174)\", \"rgb(156, 209, 143)\", \"rgb(124, 191, 115)\", \"rgb(85, 174, 91)\", \"rgb(37, 157, 81)\", \"rgb(7, 138, 78)\", \"rgb(13, 117, 71)\", \"rgb(23, 95, 61)\", \"rgb(25, 75, 49)\", \"rgb(23, 55, 35)\", \"rgb(17, 36, 20)\"]}, \"orientation\": \"h\", \"type\": \"bar\", \"x\": [1, 1, 1, 1, 1, 1, 1, 1, 1, 1, 1, 1], \"y\": [\"algae\", \"algae\", \"algae\", \"algae\", \"algae\", \"algae\", \"algae\", \"algae\", \"algae\", \"algae\", \"algae\", \"algae\"]}, {\"customdata\": [0, 1, 2, 3, 4, 5, 6, 7, 8, 9, 10, 11], \"hovertemplate\": \"%{y}[%{customdata}] = %{marker.color}<extra></extra>\", \"marker\": {\"color\": [\"rgb(230, 240, 240)\", \"rgb(191, 221, 229)\", \"rgb(156, 201, 226)\", \"rgb(129, 180, 227)\", \"rgb(115, 154, 228)\", \"rgb(117, 127, 221)\", \"rgb(120, 100, 202)\", \"rgb(119, 74, 175)\", \"rgb(113, 50, 141)\", \"rgb(100, 31, 104)\", \"rgb(80, 20, 66)\", \"rgb(54, 14, 36)\"]}, \"orientation\": \"h\", \"type\": \"bar\", \"x\": [1, 1, 1, 1, 1, 1, 1, 1, 1, 1, 1, 1], \"y\": [\"dense\", \"dense\", \"dense\", \"dense\", \"dense\", \"dense\", \"dense\", \"dense\", \"dense\", \"dense\", \"dense\", \"dense\"]}, {\"customdata\": [0, 1, 2, 3, 4, 5, 6, 7, 8, 9, 10, 11], \"hovertemplate\": \"%{y}[%{customdata}] = %{marker.color}<extra></extra>\", \"marker\": {\"color\": [\"rgb(253, 253, 204)\", \"rgb(206, 236, 179)\", \"rgb(156, 219, 165)\", \"rgb(111, 201, 163)\", \"rgb(86, 177, 163)\", \"rgb(76, 153, 160)\", \"rgb(68, 130, 155)\", \"rgb(62, 108, 150)\", \"rgb(62, 82, 143)\", \"rgb(64, 60, 115)\", \"rgb(54, 43, 77)\", \"rgb(39, 26, 44)\"]}, \"orientation\": \"h\", \"type\": \"bar\", \"x\": [1, 1, 1, 1, 1, 1, 1, 1, 1, 1, 1, 1], \"y\": [\"deep\", \"deep\", \"deep\", \"deep\", \"deep\", \"deep\", \"deep\", \"deep\", \"deep\", \"deep\", \"deep\", \"deep\"]}, {\"customdata\": [0, 1, 2, 3, 4, 5, 6, 7, 8, 9, 10, 11], \"hovertemplate\": \"%{y}[%{customdata}] = %{marker.color}<extra></extra>\", \"marker\": {\"color\": [\"rgb(0, 0, 0)\", \"rgb(16, 16, 16)\", \"rgb(38, 38, 38)\", \"rgb(59, 59, 59)\", \"rgb(81, 80, 80)\", \"rgb(102, 101, 101)\", \"rgb(124, 123, 122)\", \"rgb(146, 146, 145)\", \"rgb(171, 171, 170)\", \"rgb(197, 197, 195)\", \"rgb(224, 224, 223)\", \"rgb(254, 254, 253)\"]}, \"orientation\": \"h\", \"type\": \"bar\", \"x\": [1, 1, 1, 1, 1, 1, 1, 1, 1, 1, 1, 1], \"y\": [\"gray\", \"gray\", \"gray\", \"gray\", \"gray\", \"gray\", \"gray\", \"gray\", \"gray\", \"gray\", \"gray\", \"gray\"]}, {\"customdata\": [0, 1, 2, 3, 4, 5, 6, 7, 8, 9, 10, 11], \"hovertemplate\": \"%{y}[%{customdata}] = %{marker.color}<extra></extra>\", \"marker\": {\"color\": [\"rgb(3, 5, 18)\", \"rgb(25, 25, 51)\", \"rgb(44, 42, 87)\", \"rgb(58, 60, 125)\", \"rgb(62, 83, 160)\", \"rgb(62, 109, 178)\", \"rgb(72, 134, 187)\", \"rgb(89, 159, 196)\", \"rgb(114, 184, 205)\", \"rgb(149, 207, 216)\", \"rgb(192, 229, 232)\", \"rgb(234, 252, 253)\"]}, \"orientation\": \"h\", \"type\": \"bar\", \"x\": [1, 1, 1, 1, 1, 1, 1, 1, 1, 1, 1, 1], \"y\": [\"ice\", \"ice\", \"ice\", \"ice\", \"ice\", \"ice\", \"ice\", \"ice\", \"ice\", \"ice\", \"ice\", \"ice\"]}, {\"customdata\": [0, 1, 2, 3, 4, 5, 6, 7, 8, 9, 10, 11], \"hovertemplate\": \"%{y}[%{customdata}] = %{marker.color}<extra></extra>\", \"marker\": {\"color\": [\"rgb(51, 19, 23)\", \"rgb(79, 28, 33)\", \"rgb(108, 36, 36)\", \"rgb(135, 47, 32)\", \"rgb(157, 66, 25)\", \"rgb(174, 88, 20)\", \"rgb(188, 111, 19)\", \"rgb(199, 137, 22)\", \"rgb(209, 164, 32)\", \"rgb(217, 192, 44)\", \"rgb(222, 222, 59)\", \"rgb(224, 253, 74)\"]}, \"orientation\": \"h\", \"type\": \"bar\", \"x\": [1, 1, 1, 1, 1, 1, 1, 1, 1, 1, 1, 1], \"y\": [\"solar\", \"solar\", \"solar\", \"solar\", \"solar\", \"solar\", \"solar\", \"solar\", \"solar\", \"solar\", \"solar\", \"solar\"]}, {\"customdata\": [0, 1, 2, 3, 4, 5, 6, 7, 8, 9, 10, 11], \"hovertemplate\": \"%{y}[%{customdata}] = %{marker.color}<extra></extra>\", \"marker\": {\"color\": [\"rgb(41, 24, 107)\", \"rgb(42, 35, 160)\", \"rgb(15, 71, 153)\", \"rgb(18, 95, 142)\", \"rgb(38, 116, 137)\", \"rgb(53, 136, 136)\", \"rgb(65, 157, 133)\", \"rgb(81, 178, 124)\", \"rgb(111, 198, 107)\", \"rgb(160, 214, 91)\", \"rgb(212, 225, 112)\", \"rgb(253, 238, 153)\"]}, \"orientation\": \"h\", \"type\": \"bar\", \"x\": [1, 1, 1, 1, 1, 1, 1, 1, 1, 1, 1, 1], \"y\": [\"haline\", \"haline\", \"haline\", \"haline\", \"haline\", \"haline\", \"haline\", \"haline\", \"haline\", \"haline\", \"haline\", \"haline\"]}, {\"customdata\": [0, 1, 2, 3, 4, 5, 6, 7, 8, 9, 10, 11], \"hovertemplate\": \"%{y}[%{customdata}] = %{marker.color}<extra></extra>\", \"marker\": {\"color\": [\"rgb(3, 35, 51)\", \"rgb(13, 48, 100)\", \"rgb(53, 50, 155)\", \"rgb(93, 62, 153)\", \"rgb(126, 77, 143)\", \"rgb(158, 89, 135)\", \"rgb(193, 100, 121)\", \"rgb(225, 113, 97)\", \"rgb(246, 139, 69)\", \"rgb(251, 173, 60)\", \"rgb(246, 211, 70)\", \"rgb(231, 250, 90)\"]}, \"orientation\": \"h\", \"type\": \"bar\", \"x\": [1, 1, 1, 1, 1, 1, 1, 1, 1, 1, 1, 1], \"y\": [\"thermal\", \"thermal\", \"thermal\", \"thermal\", \"thermal\", \"thermal\", \"thermal\", \"thermal\", \"thermal\", \"thermal\", \"thermal\", \"thermal\"]}, {\"customdata\": [0, 1, 2, 3, 4, 5, 6, 7, 8, 9, 10, 11], \"hovertemplate\": \"%{y}[%{customdata}] = %{marker.color}<extra></extra>\", \"marker\": {\"color\": [\"rgb(232, 245, 171)\", \"rgb(220, 219, 137)\", \"rgb(209, 193, 107)\", \"rgb(199, 168, 83)\", \"rgb(186, 143, 66)\", \"rgb(170, 121, 60)\", \"rgb(151, 103, 58)\", \"rgb(129, 87, 56)\", \"rgb(104, 72, 53)\", \"rgb(80, 59, 46)\", \"rgb(57, 45, 37)\", \"rgb(34, 30, 27)\"]}, \"orientation\": \"h\", \"type\": \"bar\", \"x\": [1, 1, 1, 1, 1, 1, 1, 1, 1, 1, 1, 1], \"y\": [\"turbid\", \"turbid\", \"turbid\", \"turbid\", \"turbid\", \"turbid\", \"turbid\", \"turbid\", \"turbid\", \"turbid\", \"turbid\", \"turbid\"]}, {\"customdata\": [0, 1, 2, 3, 4, 5, 6, 7, 8], \"hovertemplate\": \"%{y}[%{customdata}] = %{marker.color}<extra></extra>\", \"marker\": {\"color\": [\"rgb(255,255,204)\", \"rgb(255,237,160)\", \"rgb(254,217,118)\", \"rgb(254,178,76)\", \"rgb(253,141,60)\", \"rgb(252,78,42)\", \"rgb(227,26,28)\", \"rgb(189,0,38)\", \"rgb(128,0,38)\"]}, \"orientation\": \"h\", \"type\": \"bar\", \"x\": [1, 1, 1, 1, 1, 1, 1, 1, 1], \"y\": [\"YlOrRd\", \"YlOrRd\", \"YlOrRd\", \"YlOrRd\", \"YlOrRd\", \"YlOrRd\", \"YlOrRd\", \"YlOrRd\", \"YlOrRd\"]}, {\"customdata\": [0, 1, 2, 3, 4, 5, 6, 7, 8], \"hovertemplate\": \"%{y}[%{customdata}] = %{marker.color}<extra></extra>\", \"marker\": {\"color\": [\"rgb(255,255,229)\", \"rgb(255,247,188)\", \"rgb(254,227,145)\", \"rgb(254,196,79)\", \"rgb(254,153,41)\", \"rgb(236,112,20)\", \"rgb(204,76,2)\", \"rgb(153,52,4)\", \"rgb(102,37,6)\"]}, \"orientation\": \"h\", \"type\": \"bar\", \"x\": [1, 1, 1, 1, 1, 1, 1, 1, 1], \"y\": [\"YlOrBr\", \"YlOrBr\", \"YlOrBr\", \"YlOrBr\", \"YlOrBr\", \"YlOrBr\", \"YlOrBr\", \"YlOrBr\", \"YlOrBr\"]}, {\"customdata\": [0, 1, 2, 3, 4, 5, 6, 7, 8], \"hovertemplate\": \"%{y}[%{customdata}] = %{marker.color}<extra></extra>\", \"marker\": {\"color\": [\"rgb(255,255,217)\", \"rgb(237,248,177)\", \"rgb(199,233,180)\", \"rgb(127,205,187)\", \"rgb(65,182,196)\", \"rgb(29,145,192)\", \"rgb(34,94,168)\", \"rgb(37,52,148)\", \"rgb(8,29,88)\"]}, \"orientation\": \"h\", \"type\": \"bar\", \"x\": [1, 1, 1, 1, 1, 1, 1, 1, 1], \"y\": [\"YlGnBu\", \"YlGnBu\", \"YlGnBu\", \"YlGnBu\", \"YlGnBu\", \"YlGnBu\", \"YlGnBu\", \"YlGnBu\", \"YlGnBu\"]}, {\"customdata\": [0, 1, 2, 3, 4, 5, 6, 7, 8], \"hovertemplate\": \"%{y}[%{customdata}] = %{marker.color}<extra></extra>\", \"marker\": {\"color\": [\"rgb(255,255,229)\", \"rgb(247,252,185)\", \"rgb(217,240,163)\", \"rgb(173,221,142)\", \"rgb(120,198,121)\", \"rgb(65,171,93)\", \"rgb(35,132,67)\", \"rgb(0,104,55)\", \"rgb(0,69,41)\"]}, \"orientation\": \"h\", \"type\": \"bar\", \"x\": [1, 1, 1, 1, 1, 1, 1, 1, 1], \"y\": [\"YlGn\", \"YlGn\", \"YlGn\", \"YlGn\", \"YlGn\", \"YlGn\", \"YlGn\", \"YlGn\", \"YlGn\"]}, {\"customdata\": [0, 1, 2, 3, 4, 5, 6, 7, 8], \"hovertemplate\": \"%{y}[%{customdata}] = %{marker.color}<extra></extra>\", \"marker\": {\"color\": [\"rgb(255,245,240)\", \"rgb(254,224,210)\", \"rgb(252,187,161)\", \"rgb(252,146,114)\", \"rgb(251,106,74)\", \"rgb(239,59,44)\", \"rgb(203,24,29)\", \"rgb(165,15,21)\", \"rgb(103,0,13)\"]}, \"orientation\": \"h\", \"type\": \"bar\", \"x\": [1, 1, 1, 1, 1, 1, 1, 1, 1], \"y\": [\"Reds\", \"Reds\", \"Reds\", \"Reds\", \"Reds\", \"Reds\", \"Reds\", \"Reds\", \"Reds\"]}, {\"customdata\": [0, 1, 2, 3, 4, 5, 6, 7, 8], \"hovertemplate\": \"%{y}[%{customdata}] = %{marker.color}<extra></extra>\", \"marker\": {\"color\": [\"rgb(255,247,243)\", \"rgb(253,224,221)\", \"rgb(252,197,192)\", \"rgb(250,159,181)\", \"rgb(247,104,161)\", \"rgb(221,52,151)\", \"rgb(174,1,126)\", \"rgb(122,1,119)\", \"rgb(73,0,106)\"]}, \"orientation\": \"h\", \"type\": \"bar\", \"x\": [1, 1, 1, 1, 1, 1, 1, 1, 1], \"y\": [\"RdPu\", \"RdPu\", \"RdPu\", \"RdPu\", \"RdPu\", \"RdPu\", \"RdPu\", \"RdPu\", \"RdPu\"]}, {\"customdata\": [0, 1, 2, 3, 4, 5, 6, 7, 8, 9, 10], \"hovertemplate\": \"%{y}[%{customdata}] = %{marker.color}<extra></extra>\", \"marker\": {\"color\": [\"rgb(103,0,31)\", \"rgb(178,24,43)\", \"rgb(214,96,77)\", \"rgb(244,165,130)\", \"rgb(253,219,199)\", \"rgb(247,247,247)\", \"rgb(209,229,240)\", \"rgb(146,197,222)\", \"rgb(67,147,195)\", \"rgb(33,102,172)\", \"rgb(5,48,97)\"]}, \"orientation\": \"h\", \"type\": \"bar\", \"x\": [1, 1, 1, 1, 1, 1, 1, 1, 1, 1, 1], \"y\": [\"RdBu\", \"RdBu\", \"RdBu\", \"RdBu\", \"RdBu\", \"RdBu\", \"RdBu\", \"RdBu\", \"RdBu\", \"RdBu\", \"RdBu\"]}, {\"customdata\": [0, 1, 2, 3, 4, 5, 6, 7, 8], \"hovertemplate\": \"%{y}[%{customdata}] = %{marker.color}<extra></extra>\", \"marker\": {\"color\": [\"rgb(252,251,253)\", \"rgb(239,237,245)\", \"rgb(218,218,235)\", \"rgb(188,189,220)\", \"rgb(158,154,200)\", \"rgb(128,125,186)\", \"rgb(106,81,163)\", \"rgb(84,39,143)\", \"rgb(63,0,125)\"]}, \"orientation\": \"h\", \"type\": \"bar\", \"x\": [1, 1, 1, 1, 1, 1, 1, 1, 1], \"y\": [\"Purples\", \"Purples\", \"Purples\", \"Purples\", \"Purples\", \"Purples\", \"Purples\", \"Purples\", \"Purples\"]}, {\"customdata\": [0, 1, 2, 3, 4, 5, 6, 7, 8], \"hovertemplate\": \"%{y}[%{customdata}] = %{marker.color}<extra></extra>\", \"marker\": {\"color\": [\"rgb(247,244,249)\", \"rgb(231,225,239)\", \"rgb(212,185,218)\", \"rgb(201,148,199)\", \"rgb(223,101,176)\", \"rgb(231,41,138)\", \"rgb(206,18,86)\", \"rgb(152,0,67)\", \"rgb(103,0,31)\"]}, \"orientation\": \"h\", \"type\": \"bar\", \"x\": [1, 1, 1, 1, 1, 1, 1, 1, 1], \"y\": [\"PuRd\", \"PuRd\", \"PuRd\", \"PuRd\", \"PuRd\", \"PuRd\", \"PuRd\", \"PuRd\", \"PuRd\"]}, {\"customdata\": [0, 1, 2, 3, 4, 5, 6, 7, 8], \"hovertemplate\": \"%{y}[%{customdata}] = %{marker.color}<extra></extra>\", \"marker\": {\"color\": [\"rgb(255,247,251)\", \"rgb(236,226,240)\", \"rgb(208,209,230)\", \"rgb(166,189,219)\", \"rgb(103,169,207)\", \"rgb(54,144,192)\", \"rgb(2,129,138)\", \"rgb(1,108,89)\", \"rgb(1,70,54)\"]}, \"orientation\": \"h\", \"type\": \"bar\", \"x\": [1, 1, 1, 1, 1, 1, 1, 1, 1], \"y\": [\"PuBuGn\", \"PuBuGn\", \"PuBuGn\", \"PuBuGn\", \"PuBuGn\", \"PuBuGn\", \"PuBuGn\", \"PuBuGn\", \"PuBuGn\"]}, {\"customdata\": [0, 1, 2, 3, 4, 5, 6, 7, 8], \"hovertemplate\": \"%{y}[%{customdata}] = %{marker.color}<extra></extra>\", \"marker\": {\"color\": [\"rgb(255,247,251)\", \"rgb(236,231,242)\", \"rgb(208,209,230)\", \"rgb(166,189,219)\", \"rgb(116,169,207)\", \"rgb(54,144,192)\", \"rgb(5,112,176)\", \"rgb(4,90,141)\", \"rgb(2,56,88)\"]}, \"orientation\": \"h\", \"type\": \"bar\", \"x\": [1, 1, 1, 1, 1, 1, 1, 1, 1], \"y\": [\"PuBu\", \"PuBu\", \"PuBu\", \"PuBu\", \"PuBu\", \"PuBu\", \"PuBu\", \"PuBu\", \"PuBu\"]}, {\"customdata\": [0, 1, 2, 3, 4, 5, 6, 7, 8], \"hovertemplate\": \"%{y}[%{customdata}] = %{marker.color}<extra></extra>\", \"marker\": {\"color\": [\"rgb(255,245,235)\", \"rgb(254,230,206)\", \"rgb(253,208,162)\", \"rgb(253,174,107)\", \"rgb(253,141,60)\", \"rgb(241,105,19)\", \"rgb(217,72,1)\", \"rgb(166,54,3)\", \"rgb(127,39,4)\"]}, \"orientation\": \"h\", \"type\": \"bar\", \"x\": [1, 1, 1, 1, 1, 1, 1, 1, 1], \"y\": [\"Oranges\", \"Oranges\", \"Oranges\", \"Oranges\", \"Oranges\", \"Oranges\", \"Oranges\", \"Oranges\", \"Oranges\"]}, {\"customdata\": [0, 1, 2, 3, 4, 5, 6, 7, 8], \"hovertemplate\": \"%{y}[%{customdata}] = %{marker.color}<extra></extra>\", \"marker\": {\"color\": [\"rgb(255,247,236)\", \"rgb(254,232,200)\", \"rgb(253,212,158)\", \"rgb(253,187,132)\", \"rgb(252,141,89)\", \"rgb(239,101,72)\", \"rgb(215,48,31)\", \"rgb(179,0,0)\", \"rgb(127,0,0)\"]}, \"orientation\": \"h\", \"type\": \"bar\", \"x\": [1, 1, 1, 1, 1, 1, 1, 1, 1], \"y\": [\"OrRd\", \"OrRd\", \"OrRd\", \"OrRd\", \"OrRd\", \"OrRd\", \"OrRd\", \"OrRd\", \"OrRd\"]}, {\"customdata\": [0, 1, 2, 3, 4, 5, 6, 7, 8], \"hovertemplate\": \"%{y}[%{customdata}] = %{marker.color}<extra></extra>\", \"marker\": {\"color\": [\"rgb(255,255,255)\", \"rgb(240,240,240)\", \"rgb(217,217,217)\", \"rgb(189,189,189)\", \"rgb(150,150,150)\", \"rgb(115,115,115)\", \"rgb(82,82,82)\", \"rgb(37,37,37)\", \"rgb(0,0,0)\"]}, \"orientation\": \"h\", \"type\": \"bar\", \"x\": [1, 1, 1, 1, 1, 1, 1, 1, 1], \"y\": [\"Greys\", \"Greys\", \"Greys\", \"Greys\", \"Greys\", \"Greys\", \"Greys\", \"Greys\", \"Greys\"]}, {\"customdata\": [0, 1, 2, 3, 4, 5, 6, 7, 8], \"hovertemplate\": \"%{y}[%{customdata}] = %{marker.color}<extra></extra>\", \"marker\": {\"color\": [\"rgb(247,252,245)\", \"rgb(229,245,224)\", \"rgb(199,233,192)\", \"rgb(161,217,155)\", \"rgb(116,196,118)\", \"rgb(65,171,93)\", \"rgb(35,139,69)\", \"rgb(0,109,44)\", \"rgb(0,68,27)\"]}, \"orientation\": \"h\", \"type\": \"bar\", \"x\": [1, 1, 1, 1, 1, 1, 1, 1, 1], \"y\": [\"Greens\", \"Greens\", \"Greens\", \"Greens\", \"Greens\", \"Greens\", \"Greens\", \"Greens\", \"Greens\"]}, {\"customdata\": [0, 1, 2, 3, 4, 5, 6, 7, 8], \"hovertemplate\": \"%{y}[%{customdata}] = %{marker.color}<extra></extra>\", \"marker\": {\"color\": [\"rgb(247,252,240)\", \"rgb(224,243,219)\", \"rgb(204,235,197)\", \"rgb(168,221,181)\", \"rgb(123,204,196)\", \"rgb(78,179,211)\", \"rgb(43,140,190)\", \"rgb(8,104,172)\", \"rgb(8,64,129)\"]}, \"orientation\": \"h\", \"type\": \"bar\", \"x\": [1, 1, 1, 1, 1, 1, 1, 1, 1], \"y\": [\"GnBu\", \"GnBu\", \"GnBu\", \"GnBu\", \"GnBu\", \"GnBu\", \"GnBu\", \"GnBu\", \"GnBu\"]}, {\"customdata\": [0, 1, 2, 3, 4, 5, 6, 7, 8], \"hovertemplate\": \"%{y}[%{customdata}] = %{marker.color}<extra></extra>\", \"marker\": {\"color\": [\"rgb(247,252,253)\", \"rgb(224,236,244)\", \"rgb(191,211,230)\", \"rgb(158,188,218)\", \"rgb(140,150,198)\", \"rgb(140,107,177)\", \"rgb(136,65,157)\", \"rgb(129,15,124)\", \"rgb(77,0,75)\"]}, \"orientation\": \"h\", \"type\": \"bar\", \"x\": [1, 1, 1, 1, 1, 1, 1, 1, 1], \"y\": [\"BuPu\", \"BuPu\", \"BuPu\", \"BuPu\", \"BuPu\", \"BuPu\", \"BuPu\", \"BuPu\", \"BuPu\"]}, {\"customdata\": [0, 1, 2, 3, 4, 5, 6, 7, 8], \"hovertemplate\": \"%{y}[%{customdata}] = %{marker.color}<extra></extra>\", \"marker\": {\"color\": [\"rgb(247,252,253)\", \"rgb(229,245,249)\", \"rgb(204,236,230)\", \"rgb(153,216,201)\", \"rgb(102,194,164)\", \"rgb(65,174,118)\", \"rgb(35,139,69)\", \"rgb(0,109,44)\", \"rgb(0,68,27)\"]}, \"orientation\": \"h\", \"type\": \"bar\", \"x\": [1, 1, 1, 1, 1, 1, 1, 1, 1], \"y\": [\"BuGn\", \"BuGn\", \"BuGn\", \"BuGn\", \"BuGn\", \"BuGn\", \"BuGn\", \"BuGn\", \"BuGn\"]}, {\"customdata\": [0, 1, 2, 3, 4, 5, 6, 7, 8], \"hovertemplate\": \"%{y}[%{customdata}] = %{marker.color}<extra></extra>\", \"marker\": {\"color\": [\"rgb(247,251,255)\", \"rgb(222,235,247)\", \"rgb(198,219,239)\", \"rgb(158,202,225)\", \"rgb(107,174,214)\", \"rgb(66,146,198)\", \"rgb(33,113,181)\", \"rgb(8,81,156)\", \"rgb(8,48,107)\"]}, \"orientation\": \"h\", \"type\": \"bar\", \"x\": [1, 1, 1, 1, 1, 1, 1, 1, 1], \"y\": [\"Blues\", \"Blues\", \"Blues\", \"Blues\", \"Blues\", \"Blues\", \"Blues\", \"Blues\", \"Blues\"]}, {\"customdata\": [0, 1, 2, 3, 4, 5, 6, 7, 8], \"hovertemplate\": \"%{y}[%{customdata}] = %{marker.color}<extra></extra>\", \"marker\": {\"color\": [\"rgb(150,0,90)\", \"rgb(0,0,200)\", \"rgb(0,25,255)\", \"rgb(0,152,255)\", \"rgb(44,255,150)\", \"rgb(151,255,0)\", \"rgb(255,234,0)\", \"rgb(255,111,0)\", \"rgb(255,0,0)\"]}, \"orientation\": \"h\", \"type\": \"bar\", \"x\": [1, 1, 1, 1, 1, 1, 1, 1, 1], \"y\": [\"Rainbow\", \"Rainbow\", \"Rainbow\", \"Rainbow\", \"Rainbow\", \"Rainbow\", \"Rainbow\", \"Rainbow\", \"Rainbow\"]}, {\"customdata\": [0, 1, 2, 3, 4, 5], \"hovertemplate\": \"%{y}[%{customdata}] = %{marker.color}<extra></extra>\", \"marker\": {\"color\": [\"rgb(0,0,131)\", \"rgb(0,60,170)\", \"rgb(5,255,255)\", \"rgb(255,255,0)\", \"rgb(250,0,0)\", \"rgb(128,0,0)\"]}, \"orientation\": \"h\", \"type\": \"bar\", \"x\": [1, 1, 1, 1, 1, 1], \"y\": [\"Jet\", \"Jet\", \"Jet\", \"Jet\", \"Jet\", \"Jet\"]}, {\"customdata\": [0, 1, 2, 3], \"hovertemplate\": \"%{y}[%{customdata}] = %{marker.color}<extra></extra>\", \"marker\": {\"color\": [\"rgb(0,0,0)\", \"rgb(230,0,0)\", \"rgb(255,210,0)\", \"rgb(255,255,255)\"]}, \"orientation\": \"h\", \"type\": \"bar\", \"x\": [1, 1, 1, 1], \"y\": [\"Hot\", \"Hot\", \"Hot\", \"Hot\"]}, {\"customdata\": [0, 1, 2, 3, 4, 5], \"hovertemplate\": \"%{y}[%{customdata}] = %{marker.color}<extra></extra>\", \"marker\": {\"color\": [\"rgb(0,0,0)\", \"rgb(30,0,100)\", \"rgb(120,0,100)\", \"rgb(160,90,0)\", \"rgb(230,200,0)\", \"rgb(255,250,220)\"]}, \"orientation\": \"h\", \"type\": \"bar\", \"x\": [1, 1, 1, 1, 1, 1], \"y\": [\"Electric\", \"Electric\", \"Electric\", \"Electric\", \"Electric\", \"Electric\"]}, {\"customdata\": [0, 1], \"hovertemplate\": \"%{y}[%{customdata}] = %{marker.color}<extra></extra>\", \"marker\": {\"color\": [\"rgb(0,0,255)\", \"rgb(255,0,0)\"]}, \"orientation\": \"h\", \"type\": \"bar\", \"x\": [1, 1], \"y\": [\"Bluered\", \"Bluered\"]}, {\"customdata\": [0, 1, 2, 3, 4], \"hovertemplate\": \"%{y}[%{customdata}] = %{marker.color}<extra></extra>\", \"marker\": {\"color\": [\"rgb(0,0,0)\", \"rgb(230,0,0)\", \"rgb(230,210,0)\", \"rgb(255,255,255)\", \"rgb(160,200,255)\"]}, \"orientation\": \"h\", \"type\": \"bar\", \"x\": [1, 1, 1, 1, 1], \"y\": [\"Blackbody\", \"Blackbody\", \"Blackbody\", \"Blackbody\", \"Blackbody\"]}, {\"customdata\": [0, 1, 2, 3, 4, 5, 6, 7, 8, 9], \"hovertemplate\": \"%{y}[%{customdata}] = %{marker.color}<extra></extra>\", \"marker\": {\"color\": [\"#0d0887\", \"#46039f\", \"#7201a8\", \"#9c179e\", \"#bd3786\", \"#d8576b\", \"#ed7953\", \"#fb9f3a\", \"#fdca26\", \"#f0f921\"]}, \"orientation\": \"h\", \"type\": \"bar\", \"x\": [1, 1, 1, 1, 1, 1, 1, 1, 1, 1], \"y\": [\"Plasma\", \"Plasma\", \"Plasma\", \"Plasma\", \"Plasma\", \"Plasma\", \"Plasma\", \"Plasma\", \"Plasma\", \"Plasma\"]}, {\"customdata\": [0, 1, 2, 3, 4, 5, 6, 7, 8, 9], \"hovertemplate\": \"%{y}[%{customdata}] = %{marker.color}<extra></extra>\", \"marker\": {\"color\": [\"#000004\", \"#180f3d\", \"#440f76\", \"#721f81\", \"#9e2f7f\", \"#cd4071\", \"#f1605d\", \"#fd9668\", \"#feca8d\", \"#fcfdbf\"]}, \"orientation\": \"h\", \"type\": \"bar\", \"x\": [1, 1, 1, 1, 1, 1, 1, 1, 1, 1], \"y\": [\"Magma\", \"Magma\", \"Magma\", \"Magma\", \"Magma\", \"Magma\", \"Magma\", \"Magma\", \"Magma\", \"Magma\"]}, {\"customdata\": [0, 1, 2, 3, 4, 5, 6, 7, 8, 9], \"hovertemplate\": \"%{y}[%{customdata}] = %{marker.color}<extra></extra>\", \"marker\": {\"color\": [\"#000004\", \"#1b0c41\", \"#4a0c6b\", \"#781c6d\", \"#a52c60\", \"#cf4446\", \"#ed6925\", \"#fb9b06\", \"#f7d13d\", \"#fcffa4\"]}, \"orientation\": \"h\", \"type\": \"bar\", \"x\": [1, 1, 1, 1, 1, 1, 1, 1, 1, 1], \"y\": [\"Inferno\", \"Inferno\", \"Inferno\", \"Inferno\", \"Inferno\", \"Inferno\", \"Inferno\", \"Inferno\", \"Inferno\", \"Inferno\"]}, {\"customdata\": [0, 1, 2, 3, 4, 5, 6, 7, 8, 9], \"hovertemplate\": \"%{y}[%{customdata}] = %{marker.color}<extra></extra>\", \"marker\": {\"color\": [\"#00224e\", \"#123570\", \"#3b496c\", \"#575d6d\", \"#707173\", \"#8a8678\", \"#a59c74\", \"#c3b369\", \"#e1cc55\", \"#fee838\"]}, \"orientation\": \"h\", \"type\": \"bar\", \"x\": [1, 1, 1, 1, 1, 1, 1, 1, 1, 1], \"y\": [\"Cividis\", \"Cividis\", \"Cividis\", \"Cividis\", \"Cividis\", \"Cividis\", \"Cividis\", \"Cividis\", \"Cividis\", \"Cividis\"]}, {\"customdata\": [0, 1, 2, 3, 4, 5, 6, 7, 8, 9], \"hovertemplate\": \"%{y}[%{customdata}] = %{marker.color}<extra></extra>\", \"marker\": {\"color\": [\"#440154\", \"#482878\", \"#3e4989\", \"#31688e\", \"#26828e\", \"#1f9e89\", \"#35b779\", \"#6ece58\", \"#b5de2b\", \"#fde725\"]}, \"orientation\": \"h\", \"type\": \"bar\", \"x\": [1, 1, 1, 1, 1, 1, 1, 1, 1, 1], \"y\": [\"Viridis\", \"Viridis\", \"Viridis\", \"Viridis\", \"Viridis\", \"Viridis\", \"Viridis\", \"Viridis\", \"Viridis\", \"Viridis\"]}, {\"customdata\": [0, 1, 2, 3, 4, 5, 6, 7, 8, 9, 10, 11, 12], \"hovertemplate\": \"%{y}[%{customdata}] = %{marker.color}<extra></extra>\", \"marker\": {\"color\": [\"#0508b8\", \"#1910d8\", \"#3c19f0\", \"#6b1cfb\", \"#981cfd\", \"#bf1cfd\", \"#dd2bfd\", \"#f246fe\", \"#fc67fd\", \"#fe88fc\", \"#fea5fd\", \"#febefe\", \"#fec3fe\"]}, \"orientation\": \"h\", \"type\": \"bar\", \"x\": [1, 1, 1, 1, 1, 1, 1, 1, 1, 1, 1, 1, 1], \"y\": [\"Plotly3\", \"Plotly3\", \"Plotly3\", \"Plotly3\", \"Plotly3\", \"Plotly3\", \"Plotly3\", \"Plotly3\", \"Plotly3\", \"Plotly3\", \"Plotly3\", \"Plotly3\", \"Plotly3\"]}],\n",
              "                        {\"bargap\": 0.5, \"barmode\": \"stack\", \"barnorm\": \"fraction\", \"height\": 2600, \"showlegend\": false, \"template\": {\"data\": {\"bar\": [{\"error_x\": {\"color\": \"#2a3f5f\"}, \"error_y\": {\"color\": \"#2a3f5f\"}, \"marker\": {\"line\": {\"color\": \"#E5ECF6\", \"width\": 0.5}}, \"type\": \"bar\"}], \"barpolar\": [{\"marker\": {\"line\": {\"color\": \"#E5ECF6\", \"width\": 0.5}}, \"type\": \"barpolar\"}], \"carpet\": [{\"aaxis\": {\"endlinecolor\": \"#2a3f5f\", \"gridcolor\": \"white\", \"linecolor\": \"white\", \"minorgridcolor\": \"white\", \"startlinecolor\": \"#2a3f5f\"}, \"baxis\": {\"endlinecolor\": \"#2a3f5f\", \"gridcolor\": \"white\", \"linecolor\": \"white\", \"minorgridcolor\": \"white\", \"startlinecolor\": \"#2a3f5f\"}, \"type\": \"carpet\"}], \"choropleth\": [{\"colorbar\": {\"outlinewidth\": 0, \"ticks\": \"\"}, \"type\": \"choropleth\"}], \"contour\": [{\"colorbar\": {\"outlinewidth\": 0, \"ticks\": \"\"}, \"colorscale\": [[0.0, \"#0d0887\"], [0.1111111111111111, \"#46039f\"], [0.2222222222222222, \"#7201a8\"], [0.3333333333333333, \"#9c179e\"], [0.4444444444444444, \"#bd3786\"], [0.5555555555555556, \"#d8576b\"], [0.6666666666666666, \"#ed7953\"], [0.7777777777777778, \"#fb9f3a\"], [0.8888888888888888, \"#fdca26\"], [1.0, \"#f0f921\"]], \"type\": \"contour\"}], \"contourcarpet\": [{\"colorbar\": {\"outlinewidth\": 0, \"ticks\": \"\"}, \"type\": \"contourcarpet\"}], \"heatmap\": [{\"colorbar\": {\"outlinewidth\": 0, \"ticks\": \"\"}, \"colorscale\": [[0.0, \"#0d0887\"], [0.1111111111111111, \"#46039f\"], [0.2222222222222222, \"#7201a8\"], [0.3333333333333333, \"#9c179e\"], [0.4444444444444444, \"#bd3786\"], [0.5555555555555556, \"#d8576b\"], [0.6666666666666666, \"#ed7953\"], [0.7777777777777778, \"#fb9f3a\"], [0.8888888888888888, \"#fdca26\"], [1.0, \"#f0f921\"]], \"type\": \"heatmap\"}], \"heatmapgl\": [{\"colorbar\": {\"outlinewidth\": 0, \"ticks\": \"\"}, \"colorscale\": [[0.0, \"#0d0887\"], [0.1111111111111111, \"#46039f\"], [0.2222222222222222, \"#7201a8\"], [0.3333333333333333, \"#9c179e\"], [0.4444444444444444, \"#bd3786\"], [0.5555555555555556, \"#d8576b\"], [0.6666666666666666, \"#ed7953\"], [0.7777777777777778, \"#fb9f3a\"], [0.8888888888888888, \"#fdca26\"], [1.0, \"#f0f921\"]], \"type\": \"heatmapgl\"}], \"histogram\": [{\"marker\": {\"colorbar\": {\"outlinewidth\": 0, \"ticks\": \"\"}}, \"type\": \"histogram\"}], \"histogram2d\": [{\"colorbar\": {\"outlinewidth\": 0, \"ticks\": \"\"}, \"colorscale\": [[0.0, \"#0d0887\"], [0.1111111111111111, \"#46039f\"], [0.2222222222222222, \"#7201a8\"], [0.3333333333333333, \"#9c179e\"], [0.4444444444444444, \"#bd3786\"], [0.5555555555555556, \"#d8576b\"], [0.6666666666666666, \"#ed7953\"], [0.7777777777777778, \"#fb9f3a\"], [0.8888888888888888, \"#fdca26\"], [1.0, \"#f0f921\"]], \"type\": \"histogram2d\"}], \"histogram2dcontour\": [{\"colorbar\": {\"outlinewidth\": 0, \"ticks\": \"\"}, \"colorscale\": [[0.0, \"#0d0887\"], [0.1111111111111111, \"#46039f\"], [0.2222222222222222, \"#7201a8\"], [0.3333333333333333, \"#9c179e\"], [0.4444444444444444, \"#bd3786\"], [0.5555555555555556, \"#d8576b\"], [0.6666666666666666, \"#ed7953\"], [0.7777777777777778, \"#fb9f3a\"], [0.8888888888888888, \"#fdca26\"], [1.0, \"#f0f921\"]], \"type\": \"histogram2dcontour\"}], \"mesh3d\": [{\"colorbar\": {\"outlinewidth\": 0, \"ticks\": \"\"}, \"type\": \"mesh3d\"}], \"parcoords\": [{\"line\": {\"colorbar\": {\"outlinewidth\": 0, \"ticks\": \"\"}}, \"type\": \"parcoords\"}], \"pie\": [{\"automargin\": true, \"type\": \"pie\"}], \"scatter\": [{\"marker\": {\"colorbar\": {\"outlinewidth\": 0, \"ticks\": \"\"}}, \"type\": \"scatter\"}], \"scatter3d\": [{\"line\": {\"colorbar\": {\"outlinewidth\": 0, \"ticks\": \"\"}}, \"marker\": {\"colorbar\": {\"outlinewidth\": 0, \"ticks\": \"\"}}, \"type\": \"scatter3d\"}], \"scattercarpet\": [{\"marker\": {\"colorbar\": {\"outlinewidth\": 0, \"ticks\": \"\"}}, \"type\": \"scattercarpet\"}], \"scattergeo\": [{\"marker\": {\"colorbar\": {\"outlinewidth\": 0, \"ticks\": \"\"}}, \"type\": \"scattergeo\"}], \"scattergl\": [{\"marker\": {\"colorbar\": {\"outlinewidth\": 0, \"ticks\": \"\"}}, \"type\": \"scattergl\"}], \"scattermapbox\": [{\"marker\": {\"colorbar\": {\"outlinewidth\": 0, \"ticks\": \"\"}}, \"type\": \"scattermapbox\"}], \"scatterpolar\": [{\"marker\": {\"colorbar\": {\"outlinewidth\": 0, \"ticks\": \"\"}}, \"type\": \"scatterpolar\"}], \"scatterpolargl\": [{\"marker\": {\"colorbar\": {\"outlinewidth\": 0, \"ticks\": \"\"}}, \"type\": \"scatterpolargl\"}], \"scatterternary\": [{\"marker\": {\"colorbar\": {\"outlinewidth\": 0, \"ticks\": \"\"}}, \"type\": \"scatterternary\"}], \"surface\": [{\"colorbar\": {\"outlinewidth\": 0, \"ticks\": \"\"}, \"colorscale\": [[0.0, \"#0d0887\"], [0.1111111111111111, \"#46039f\"], [0.2222222222222222, \"#7201a8\"], [0.3333333333333333, \"#9c179e\"], [0.4444444444444444, \"#bd3786\"], [0.5555555555555556, \"#d8576b\"], [0.6666666666666666, \"#ed7953\"], [0.7777777777777778, \"#fb9f3a\"], [0.8888888888888888, \"#fdca26\"], [1.0, \"#f0f921\"]], \"type\": \"surface\"}], \"table\": [{\"cells\": {\"fill\": {\"color\": \"#EBF0F8\"}, \"line\": {\"color\": \"white\"}}, \"header\": {\"fill\": {\"color\": \"#C8D4E3\"}, \"line\": {\"color\": \"white\"}}, \"type\": \"table\"}]}, \"layout\": {\"annotationdefaults\": {\"arrowcolor\": \"#2a3f5f\", \"arrowhead\": 0, \"arrowwidth\": 1}, \"coloraxis\": {\"colorbar\": {\"outlinewidth\": 0, \"ticks\": \"\"}}, \"colorscale\": {\"diverging\": [[0, \"#8e0152\"], [0.1, \"#c51b7d\"], [0.2, \"#de77ae\"], [0.3, \"#f1b6da\"], [0.4, \"#fde0ef\"], [0.5, \"#f7f7f7\"], [0.6, \"#e6f5d0\"], [0.7, \"#b8e186\"], [0.8, \"#7fbc41\"], [0.9, \"#4d9221\"], [1, \"#276419\"]], \"sequential\": [[0.0, \"#0d0887\"], [0.1111111111111111, \"#46039f\"], [0.2222222222222222, \"#7201a8\"], [0.3333333333333333, \"#9c179e\"], [0.4444444444444444, \"#bd3786\"], [0.5555555555555556, \"#d8576b\"], [0.6666666666666666, \"#ed7953\"], [0.7777777777777778, \"#fb9f3a\"], [0.8888888888888888, \"#fdca26\"], [1.0, \"#f0f921\"]], \"sequentialminus\": [[0.0, \"#0d0887\"], [0.1111111111111111, \"#46039f\"], [0.2222222222222222, \"#7201a8\"], [0.3333333333333333, \"#9c179e\"], [0.4444444444444444, \"#bd3786\"], [0.5555555555555556, \"#d8576b\"], [0.6666666666666666, \"#ed7953\"], [0.7777777777777778, \"#fb9f3a\"], [0.8888888888888888, \"#fdca26\"], [1.0, \"#f0f921\"]]}, \"colorway\": [\"#636efa\", \"#EF553B\", \"#00cc96\", \"#ab63fa\", \"#FFA15A\", \"#19d3f3\", \"#FF6692\", \"#B6E880\", \"#FF97FF\", \"#FECB52\"], \"font\": {\"color\": \"#2a3f5f\"}, \"geo\": {\"bgcolor\": \"white\", \"lakecolor\": \"white\", \"landcolor\": \"#E5ECF6\", \"showlakes\": true, \"showland\": true, \"subunitcolor\": \"white\"}, \"hoverlabel\": {\"align\": \"left\"}, \"hovermode\": \"closest\", \"mapbox\": {\"style\": \"light\"}, \"paper_bgcolor\": \"white\", \"plot_bgcolor\": \"#E5ECF6\", \"polar\": {\"angularaxis\": {\"gridcolor\": \"white\", \"linecolor\": \"white\", \"ticks\": \"\"}, \"bgcolor\": \"#E5ECF6\", \"radialaxis\": {\"gridcolor\": \"white\", \"linecolor\": \"white\", \"ticks\": \"\"}}, \"scene\": {\"xaxis\": {\"backgroundcolor\": \"#E5ECF6\", \"gridcolor\": \"white\", \"gridwidth\": 2, \"linecolor\": \"white\", \"showbackground\": true, \"ticks\": \"\", \"zerolinecolor\": \"white\"}, \"yaxis\": {\"backgroundcolor\": \"#E5ECF6\", \"gridcolor\": \"white\", \"gridwidth\": 2, \"linecolor\": \"white\", \"showbackground\": true, \"ticks\": \"\", \"zerolinecolor\": \"white\"}, \"zaxis\": {\"backgroundcolor\": \"#E5ECF6\", \"gridcolor\": \"white\", \"gridwidth\": 2, \"linecolor\": \"white\", \"showbackground\": true, \"ticks\": \"\", \"zerolinecolor\": \"white\"}}, \"shapedefaults\": {\"line\": {\"color\": \"#2a3f5f\"}}, \"ternary\": {\"aaxis\": {\"gridcolor\": \"white\", \"linecolor\": \"white\", \"ticks\": \"\"}, \"baxis\": {\"gridcolor\": \"white\", \"linecolor\": \"white\", \"ticks\": \"\"}, \"bgcolor\": \"#E5ECF6\", \"caxis\": {\"gridcolor\": \"white\", \"linecolor\": \"white\", \"ticks\": \"\"}}, \"title\": {\"x\": 0.05}, \"xaxis\": {\"automargin\": true, \"gridcolor\": \"white\", \"linecolor\": \"white\", \"ticks\": \"\", \"title\": {\"standoff\": 15}, \"zerolinecolor\": \"white\", \"zerolinewidth\": 2}, \"yaxis\": {\"automargin\": true, \"gridcolor\": \"white\", \"linecolor\": \"white\", \"ticks\": \"\", \"title\": {\"standoff\": 15}, \"zerolinecolor\": \"white\", \"zerolinewidth\": 2}}}, \"title\": {\"text\": \"plotly.colors.sequential\"}, \"xaxis\": {\"range\": [-0.02, 1.02], \"showgrid\": false, \"showticklabels\": false}},\n",
              "                        {\"responsive\": true}\n",
              "                    ).then(function(){\n",
              "                            \n",
              "var gd = document.getElementById('50478e70-3f57-45f9-b92a-bebb073a3f6b');\n",
              "var x = new MutationObserver(function (mutations, observer) {{\n",
              "        var display = window.getComputedStyle(gd).display;\n",
              "        if (!display || display === 'none') {{\n",
              "            console.log([gd, 'removed!']);\n",
              "            Plotly.purge(gd);\n",
              "            observer.disconnect();\n",
              "        }}\n",
              "}});\n",
              "\n",
              "// Listen for the removal of the full notebook cells\n",
              "var notebookContainer = gd.closest('#notebook-container');\n",
              "if (notebookContainer) {{\n",
              "    x.observe(notebookContainer, {childList: true});\n",
              "}}\n",
              "\n",
              "// Listen for the clearing of the current output cell\n",
              "var outputEl = gd.closest('.output');\n",
              "if (outputEl) {{\n",
              "    x.observe(outputEl, {childList: true});\n",
              "}}\n",
              "\n",
              "                        })\n",
              "                };\n",
              "                \n",
              "            </script>\n",
              "        </div>\n",
              "</body>\n",
              "</html>"
            ]
          },
          "metadata": {
            "tags": []
          },
          "output_type": "display_data"
        }
      ],
      "source": [
        "# https://plotly.com/python/builtin-colorscales/\n",
        "import plotly.express as px\n",
        "\n",
        "#print(px.colors.sequential.Plasma)\n",
        "#a = px.colors.sequential.Plasma\n",
        "a = px.colors.sequential.Rainbow\n",
        "print(a)\n",
        "fig = px.colors.sequential.swatches()\n",
        "fig.show()"
      ]
    },
    {
      "cell_type": "markdown",
      "metadata": {
        "id": "ORvwV5tDVOdM"
      },
      "source": [
        "# 11. Exibição da tabela de dados:  parte 5\n",
        "\n",
        "É possível combinar apenas algumas colunas da tabela de dados com gráficos de barras com duas escalas de cores: uma cor para valores negativos e outra para valores positivos."
      ]
    },
    {
      "cell_type": "code",
      "execution_count": null,
      "metadata": {
        "colab": {
          "base_uri": "https://localhost:8080/",
          "height": 124
        },
        "id": "m_Uld7JeVduh",
        "outputId": "3f803d9f-d8ea-4c44-edee-82d298baa4bc",
        "vscode": {
          "languageId": "python"
        }
      },
      "outputs": [
        {
          "data": {
            "text/html": [
              "<style  type=\"text/css\" >\n",
              "    #T_f4430160_9e22_11ea_8401_0242ac1c0002row0_col0 {\n",
              "            width:  10em;\n",
              "             height:  80%;\n",
              "            background:  linear-gradient(90deg,#5fba7d 44.4%, transparent 44.4%);\n",
              "        }    #T_f4430160_9e22_11ea_8401_0242ac1c0002row0_col1 {\n",
              "            width:  10em;\n",
              "             height:  80%;\n",
              "            background:  linear-gradient(90deg,#d65f5f 37.5%, transparent 37.5%);\n",
              "        }    #T_f4430160_9e22_11ea_8401_0242ac1c0002row1_col0 {\n",
              "            width:  10em;\n",
              "             height:  80%;\n",
              "            background:  linear-gradient(90deg,#5fba7d 100.0%, transparent 100.0%);\n",
              "        }    #T_f4430160_9e22_11ea_8401_0242ac1c0002row1_col1 {\n",
              "            width:  10em;\n",
              "             height:  80%;\n",
              "            background:  linear-gradient(90deg, transparent 12.5%, #d65f5f 12.5%, #d65f5f 37.5%, transparent 37.5%);\n",
              "        }    #T_f4430160_9e22_11ea_8401_0242ac1c0002row2_col0 {\n",
              "            width:  10em;\n",
              "             height:  80%;\n",
              "            background:  linear-gradient(90deg,#5fba7d 66.7%, transparent 66.7%);\n",
              "        }    #T_f4430160_9e22_11ea_8401_0242ac1c0002row2_col1 {\n",
              "            width:  10em;\n",
              "             height:  80%;\n",
              "            background:  linear-gradient(90deg, transparent 20.8%, #d65f5f 20.8%, #d65f5f 37.5%, transparent 37.5%);\n",
              "        }    #T_f4430160_9e22_11ea_8401_0242ac1c0002row3_col0 {\n",
              "            width:  10em;\n",
              "             height:  80%;\n",
              "            background:  linear-gradient(90deg,#5fba7d 55.6%, transparent 55.6%);\n",
              "        }    #T_f4430160_9e22_11ea_8401_0242ac1c0002row3_col1 {\n",
              "            width:  10em;\n",
              "             height:  80%;\n",
              "            background:  linear-gradient(90deg, transparent 37.5%, #5fba7d 37.5%, #5fba7d 100.0%, transparent 100.0%);\n",
              "        }</style><table id=\"T_f4430160_9e22_11ea_8401_0242ac1c0002\" ><thead>    <tr>        <th class=\"blank level0\" ></th>        <th class=\"col_heading level0 col0\" >Empresa 1</th>        <th class=\"col_heading level0 col1\" >Empresa 2</th>        <th class=\"col_heading level0 col2\" >Empresa 3</th>        <th class=\"col_heading level0 col3\" >Empresa 4</th>        <th class=\"col_heading level0 col4\" >Empresa 5</th>    </tr></thead><tbody>\n",
              "                <tr>\n",
              "                        <th id=\"T_f4430160_9e22_11ea_8401_0242ac1c0002level0_row0\" class=\"row_heading level0 row0\" >0</th>\n",
              "                        <td id=\"T_f4430160_9e22_11ea_8401_0242ac1c0002row0_col0\" class=\"data row0 col0\" >4</td>\n",
              "                        <td id=\"T_f4430160_9e22_11ea_8401_0242ac1c0002row0_col1\" class=\"data row0 col1\" >-9</td>\n",
              "                        <td id=\"T_f4430160_9e22_11ea_8401_0242ac1c0002row0_col2\" class=\"data row0 col2\" >6</td>\n",
              "                        <td id=\"T_f4430160_9e22_11ea_8401_0242ac1c0002row0_col3\" class=\"data row0 col3\" >4</td>\n",
              "                        <td id=\"T_f4430160_9e22_11ea_8401_0242ac1c0002row0_col4\" class=\"data row0 col4\" >2</td>\n",
              "            </tr>\n",
              "            <tr>\n",
              "                        <th id=\"T_f4430160_9e22_11ea_8401_0242ac1c0002level0_row1\" class=\"row_heading level0 row1\" >1</th>\n",
              "                        <td id=\"T_f4430160_9e22_11ea_8401_0242ac1c0002row1_col0\" class=\"data row1 col0\" >9</td>\n",
              "                        <td id=\"T_f4430160_9e22_11ea_8401_0242ac1c0002row1_col1\" class=\"data row1 col1\" >-6</td>\n",
              "                        <td id=\"T_f4430160_9e22_11ea_8401_0242ac1c0002row1_col2\" class=\"data row1 col2\" >4</td>\n",
              "                        <td id=\"T_f4430160_9e22_11ea_8401_0242ac1c0002row1_col3\" class=\"data row1 col3\" >2</td>\n",
              "                        <td id=\"T_f4430160_9e22_11ea_8401_0242ac1c0002row1_col4\" class=\"data row1 col4\" >4</td>\n",
              "            </tr>\n",
              "            <tr>\n",
              "                        <th id=\"T_f4430160_9e22_11ea_8401_0242ac1c0002level0_row2\" class=\"row_heading level0 row2\" >2</th>\n",
              "                        <td id=\"T_f4430160_9e22_11ea_8401_0242ac1c0002row2_col0\" class=\"data row2 col0\" >6</td>\n",
              "                        <td id=\"T_f4430160_9e22_11ea_8401_0242ac1c0002row2_col1\" class=\"data row2 col1\" >-4</td>\n",
              "                        <td id=\"T_f4430160_9e22_11ea_8401_0242ac1c0002row2_col2\" class=\"data row2 col2\" >2</td>\n",
              "                        <td id=\"T_f4430160_9e22_11ea_8401_0242ac1c0002row2_col3\" class=\"data row2 col3\" >4</td>\n",
              "                        <td id=\"T_f4430160_9e22_11ea_8401_0242ac1c0002row2_col4\" class=\"data row2 col4\" >9</td>\n",
              "            </tr>\n",
              "            <tr>\n",
              "                        <th id=\"T_f4430160_9e22_11ea_8401_0242ac1c0002level0_row3\" class=\"row_heading level0 row3\" >3</th>\n",
              "                        <td id=\"T_f4430160_9e22_11ea_8401_0242ac1c0002row3_col0\" class=\"data row3 col0\" >5</td>\n",
              "                        <td id=\"T_f4430160_9e22_11ea_8401_0242ac1c0002row3_col1\" class=\"data row3 col1\" >15</td>\n",
              "                        <td id=\"T_f4430160_9e22_11ea_8401_0242ac1c0002row3_col2\" class=\"data row3 col2\" >25</td>\n",
              "                        <td id=\"T_f4430160_9e22_11ea_8401_0242ac1c0002row3_col3\" class=\"data row3 col3\" >35</td>\n",
              "                        <td id=\"T_f4430160_9e22_11ea_8401_0242ac1c0002row3_col4\" class=\"data row3 col4\" >45</td>\n",
              "            </tr>\n",
              "    </tbody></table>"
            ],
            "text/plain": [
              "<pandas.io.formats.style.Styler at 0x7f2ca752f978>"
            ]
          },
          "execution_count": 13,
          "metadata": {
            "tags": []
          },
          "output_type": "execute_result"
        }
      ],
      "source": [
        "dfh.loc[0,'Empresa 2'] = -9\n",
        "dfh.loc[1,'Empresa 2'] = -6\n",
        "dfh.loc[2,'Empresa 2'] = -4\n",
        "dfh.style.bar(subset=['Empresa 1', 'Empresa 2'], align='mid', color=['#d65f5f', '#5fba7d'])"
      ]
    },
    {
      "cell_type": "markdown",
      "metadata": {
        "id": "ZMd9DrVgUty0"
      },
      "source": [
        "# 12. Gráficos estatísticos\n",
        "\n",
        "É possível criar diagramas de caixa ou **box-plot** a partir dos dados fornecidos. Os gráficos **box-plot** ordenam os dados em ordem crescente e fracionam os dados em quartis (faixas que contém $25\\%$ dos dados):\n",
        "\n",
        "* Primeiro quartil ou Q1: valor que delimita o limite superior da faixa de valores que contém os primeiro $25\\%$ menores valores;\n",
        "* Segundo quartil ou Q2: $50\\%$ dos valores são menores e outros $50\\%$ dos valores são maiores que a mediana Q2.\n",
        "* Terceiro quartil ou Q3: faixa de valores que contém os terceiro $25\\%$ menores valores. A faixa do terceiro quartil vai da mediana até Q3;\n",
        "* Quarto quartil: faixa de valores que contém os quarto $25\\%$ menores valores ou os primeiro maiores valores;\n",
        "\n",
        "A Figura 1 fornece um exemplo de diagrama de caixa.\n",
        "\n",
        "![alt text](https://upload.wikimedia.org/wikipedia/commons/thumb/c/c9/Elements_of_a_boxplot_pt.svg/400px-Elements_of_a_boxplot_pt.svg.png)\n",
        "\n",
        "Figura 1: Exemplo de diagrama de caixa ou **box-plot**.\n",
        "\n",
        "Observe que esse diagrama serve para representar a dispersão dos dados.Eventualmente valores discrepantes para mais ou para menos são chamados de **outliers** e são representados por bolinhas vermelhas na Figura 1. \n",
        "\n",
        "Esses gráficos podem ser gerados para tabelas de dados através do comando **boxplot**. Cadaa coluna da tabela é considerada como um conjunto de dados que será usado para construir um **box-plot**. Eventualmente, o parâmetro **column** ajuda a selecionar quais colunas deseja-se criar o **box-plot** correspondente.\n",
        "\n",
        "Por último, caso deseje-se criar um **box-plot** para cada linha e não para cada coluna, deve-se, primeiro transpor linhas por colunas na tabela com o comando **transpose**.\n"
      ]
    },
    {
      "cell_type": "code",
      "execution_count": null,
      "metadata": {
        "colab": {
          "base_uri": "https://localhost:8080/",
          "height": 265
        },
        "id": "Li8NnW2tmHkz",
        "outputId": "0a7b7a6d-2687-499a-925d-0f09b02119cc",
        "vscode": {
          "languageId": "python"
        }
      },
      "outputs": [
        {
          "data": {
            "image/png": "[encoded data removed]",
            "text/plain": [
              "<Figure size 432x288 with 1 Axes>"
            ]
          },
          "metadata": {
            "needs_background": "light",
            "tags": []
          },
          "output_type": "display_data"
        }
      ],
      "source": [
        "import pandas as pd\n",
        "boxplot = dfh.boxplot()"
      ]
    },
    {
      "cell_type": "code",
      "execution_count": null,
      "metadata": {
        "colab": {
          "base_uri": "https://localhost:8080/",
          "height": 265
        },
        "id": "otmeJl8BqZUV",
        "outputId": "a9453e65-e24f-4424-9f5f-5d3fb28b669e",
        "vscode": {
          "languageId": "python"
        }
      },
      "outputs": [
        {
          "data": {
            "image/png": "[encoded data removed]",
            "text/plain": [
              "<Figure size 432x288 with 1 Axes>"
            ]
          },
          "metadata": {
            "needs_background": "light",
            "tags": []
          },
          "output_type": "display_data"
        }
      ],
      "source": [
        "boxplot = dfh.boxplot(column=['Empresa 2','Empresa 4'])"
      ]
    },
    {
      "cell_type": "code",
      "execution_count": null,
      "metadata": {
        "colab": {
          "base_uri": "https://localhost:8080/",
          "height": 265
        },
        "id": "rmTWYKLNrkS5",
        "outputId": "9bcce8bd-0e3f-44b3-e506-de5a2fc20285",
        "vscode": {
          "languageId": "python"
        }
      },
      "outputs": [
        {
          "data": {
            "image/png": "[encoded data removed]",
            "text/plain": [
              "<Figure size 432x288 with 1 Axes>"
            ]
          },
          "metadata": {
            "needs_background": "light",
            "tags": []
          },
          "output_type": "display_data"
        }
      ],
      "source": [
        "dfh = dfh.transpose()\n",
        "boxplot = dfh.boxplot()\n",
        "dfh = dfh.transpose() # Voltando ao valor antes de aplicar transposta."
      ]
    },
    {
      "cell_type": "markdown",
      "metadata": {
        "id": "xfRcJ1nwsNmz"
      },
      "source": [
        "# 13. Medidas estatísticas\n",
        "\n",
        "Medidas estatísticas podem ser obtidas. Seguem as medidas e seus respectivos comandos:\n",
        "\n",
        "* Média: **mean**\n",
        "* Variância: **var**\n",
        "* Desvio-padrão: **std**\n",
        "* Mediana: **median**\n",
        "* Moda: **mode**\n",
        "* Máximo: **max**\n",
        "* Mínimo: **min**"
      ]
    },
    {
      "cell_type": "code",
      "execution_count": null,
      "metadata": {
        "colab": {
          "base_uri": "https://localhost:8080/",
          "height": 289
        },
        "id": "3Tn5YH6usYTw",
        "outputId": "b55cc5e3-d957-43c2-dfb9-c363d9c6a5c8",
        "vscode": {
          "languageId": "python"
        }
      },
      "outputs": [
        {
          "name": "stdout",
          "output_type": "stream",
          "text": [
            "------------------------------\n",
            "Estatísticas da Empresa 1\n",
            "------------------------------\n",
            "Media         = 6.0\n",
            "Mediana       = 5.5\n",
            "Moda          = 0    4\n",
            "1    5\n",
            "2    6\n",
            "3    9\n",
            "dtype: int64\n",
            "Variancia     = 3.5\n",
            "Desvio-padrão = 1.8708286933869707\n",
            "Máximo        = 9\n",
            "Mínimo        = 4\n",
            "Amplitude     = 5\n",
            "------------------------------\n"
          ]
        }
      ],
      "source": [
        "# Para pop. (divisão por N, \n",
        "# usa-se ddof = 0 -> N-0).\n",
        "# Para amostral (divisão por N, \n",
        "# usa-se ddof = 1 -> N-1).\n",
        "variancia = dfh.loc[:,'Empresa 1'].var(ddof=0)\n",
        "desviop   = dfh.loc[:,'Empresa 1'].std(ddof=0)\n",
        "media     = dfh.loc[:,'Empresa 1'].mean()\n",
        "mediana   = dfh.loc[:,'Empresa 1'].median()\n",
        "moda      = dfh.loc[:,'Empresa 1'].mode()\n",
        "maximo    = dfh.loc[:,'Empresa 1'].max()\n",
        "minimo    = dfh.loc[:,'Empresa 1'].min()\n",
        "amplitude = maximo - minimo\n",
        "print('------------------------------')\n",
        "print('Estatísticas da Empresa 1')\n",
        "print('------------------------------')\n",
        "print('Media         = '+str(media))\n",
        "print('Mediana       = '+str(mediana))\n",
        "print('Moda          = '+str(moda))\n",
        "print('Variancia     = '+str(variancia))\n",
        "print('Desvio-padrão = '+str(desviop))\n",
        "print('Máximo        = '+str(maximo))\n",
        "print('Mínimo        = '+str(minimo))\n",
        "print('Amplitude     = '+str(amplitude))\n",
        "print('------------------------------')\n"
      ]
    },
    {
      "cell_type": "markdown",
      "metadata": {
        "id": "pBzf4JXpOqIe"
      },
      "source": [
        "# 14. Resumo desta seção\n",
        "\n",
        "* Tabela de dados ou **data frame** é um tipo de dados mutável, com ordenação e com indexação. Seus principais elementos são **index** (para as linhas), **columns** (para as colunas) e **data** (para os dados) relacionados à organização dos dados em uma tabela.\n",
        "\n",
        "* Uma tabela de dados pode ser criada a partir de listas \n",
        "ou de um dicionário:\n",
        "\n",
        "> df  = pd.DataFrame(data=[[7,20],[4,9]], index=[0,1], columns=['F','C'])\n",
        "\n",
        "> df2 = pd.DataFrame({'Favor': [15, 4], 'Contra': [45, 36]})\n",
        "\n",
        "* Os comandos **loc** e **iloc** são importantes localização de dados\n",
        "na tabela. O primeiro utiliza ordenação e o segundo usa indexação\n",
        "dos dados:\n",
        "\n",
        "> df.loc['M','C']\n",
        "\n",
        "> df.iloc[0,0]\n",
        "\n",
        "\n",
        "* Múltiplos elementos podem ser acessados a partir de **loc** e **iloc**:\n",
        "\n",
        "> df.loc[:,['F','C']] \n",
        "\n",
        "> df.iloc[0:1,[0, 1]]\n",
        "\n",
        "* Soma de valores por linhas: df.sum(axis=1) ou por colunas: df.sum(axis=0)\n",
        "\n",
        "* Duas tabelas de dados podem ser concatenadas com o comando **concat**.\n",
        "Exemplo: df = pd.concat([df,df2])\n",
        "\n",
        "* O tamanho de uma tabela pode ser obtido com o comando **shape**: df.shape\n",
        "\n",
        "* Dados duplicados podem ser eliminados com **drop_duplicates**:\n",
        "\n",
        "> df.drop_duplicates(inplace=True)\n",
        "\n",
        "* Parte dos dados podem ser selecionados com: \n",
        "\n",
        "> df[df > 4] \n",
        "\n",
        "> df[df['F'] > 4] \n",
        "\n",
        "* Uma tabela podem ser exibida como um html:\n",
        "\n",
        "> display(HTML(df.to_html()))\n",
        "\n",
        "* Algumas linhas da tabela (até o índice 3) podem ser exibidas como uma de cores\n",
        "('viridis'):\n",
        "\n",
        "> df.loc[:4].style.background_gradient(cmap='viridis') \n",
        "\n",
        "* Ou ainda conjugar desenhos de barras dentro da tabela:\n",
        "\n",
        "> df.style.bar(subset=['F', 'C'], align='mid', color=['#d65f5f', '#5fba7d'])\n",
        "\n",
        "* Um gráfico de box-plot pode ser gerado a partir dos dados da tabela:\n",
        "\n",
        "> boxplot = df.boxplot()\n",
        "\n",
        "* Medidas estatísticas podem ser extraídas dos dados contidos na tabela:\n",
        "\n",
        "> variancia = df.loc[:,'F'].var(ddof=0)\n",
        "\n",
        "> desviop   = df.loc[:,'C'].std(ddof=0)\n",
        "\n",
        "> media     = df.loc[:,'F'].mean()"
      ]
    }
  ],
  "metadata": {
    "colab": {
      "history_visible": true,
      "provenance": []
    },
    "kernelspec": {
      "display_name": "Python 3",
      "name": "python3"
    }
  },
  "nbformat": 4,
  "nbformat_minor": 0
}
